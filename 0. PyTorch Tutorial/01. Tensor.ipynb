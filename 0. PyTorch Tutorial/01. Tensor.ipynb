{
 "cells": [
  {
   "cell_type": "code",
   "execution_count": 1,
   "id": "9d651c87",
   "metadata": {},
   "outputs": [],
   "source": [
    "import torch\n",
    "import numpy as np"
   ]
  },
  {
   "cell_type": "markdown",
   "id": "dd342138",
   "metadata": {},
   "source": [
    "## 텐서(Tensor) 초기화"
   ]
  },
  {
   "cell_type": "markdown",
   "id": "823736a8",
   "metadata": {},
   "source": [
    "### 데이터로부터 직접 생성"
   ]
  },
  {
   "cell_type": "code",
   "execution_count": 4,
   "id": "88414d65",
   "metadata": {},
   "outputs": [
    {
     "data": {
      "text/plain": [
       "tensor([[1, 2],\n",
       "        [3, 4]])"
      ]
     },
     "execution_count": 4,
     "metadata": {},
     "output_type": "execute_result"
    }
   ],
   "source": [
    "data = [[1, 2], [3, 4]]\n",
    "x_data = torch.tensor(data)\n",
    "x_data"
   ]
  },
  {
   "cell_type": "markdown",
   "id": "f9debb05",
   "metadata": {},
   "source": [
    "### Numpy 배열로부터 생성"
   ]
  },
  {
   "cell_type": "code",
   "execution_count": 5,
   "id": "d21f3b42",
   "metadata": {},
   "outputs": [
    {
     "data": {
      "text/plain": [
       "tensor([[1, 2],\n",
       "        [3, 4]], dtype=torch.int32)"
      ]
     },
     "execution_count": 5,
     "metadata": {},
     "output_type": "execute_result"
    }
   ],
   "source": [
    "np_array = np.array(data)\n",
    "x_np = torch.from_numpy(np_array)\n",
    "x_np"
   ]
  },
  {
   "cell_type": "markdown",
   "id": "d7f9a7d5",
   "metadata": {},
   "source": [
    "### 다른 텐서로부터 생성"
   ]
  },
  {
   "cell_type": "code",
   "execution_count": 6,
   "id": "715025f4",
   "metadata": {},
   "outputs": [
    {
     "data": {
      "text/plain": [
       "tensor([[1, 1],\n",
       "        [1, 1]])"
      ]
     },
     "execution_count": 6,
     "metadata": {},
     "output_type": "execute_result"
    }
   ],
   "source": [
    "x_ones = torch.ones_like(x_data) # x_data의 속성을 유지\n",
    "x_ones"
   ]
  },
  {
   "cell_type": "code",
   "execution_count": 7,
   "id": "c5c80912",
   "metadata": {},
   "outputs": [
    {
     "data": {
      "text/plain": [
       "tensor([[0.1668, 0.2297],\n",
       "        [0.7724, 0.9011]])"
      ]
     },
     "execution_count": 7,
     "metadata": {},
     "output_type": "execute_result"
    }
   ],
   "source": [
    "x_rand = torch.rand_like(x_data, dtype=torch.float) # x_data의 속성을 덮어씀\n",
    "x_rand"
   ]
  },
  {
   "cell_type": "markdown",
   "id": "68d6a12b",
   "metadata": {},
   "source": [
    "### shape 입력"
   ]
  },
  {
   "cell_type": "code",
   "execution_count": 8,
   "id": "2a040151",
   "metadata": {},
   "outputs": [],
   "source": [
    "shape = (2, 3)"
   ]
  },
  {
   "cell_type": "code",
   "execution_count": 9,
   "id": "450a6789",
   "metadata": {},
   "outputs": [
    {
     "data": {
      "text/plain": [
       "tensor([[0.9580, 0.5142, 0.0920],\n",
       "        [0.9130, 0.1367, 0.7349]])"
      ]
     },
     "execution_count": 9,
     "metadata": {},
     "output_type": "execute_result"
    }
   ],
   "source": [
    "rand_tensor = torch.rand(shape)\n",
    "rand_tensor"
   ]
  },
  {
   "cell_type": "code",
   "execution_count": 12,
   "id": "8708521f",
   "metadata": {},
   "outputs": [
    {
     "data": {
      "text/plain": [
       "tensor([[1., 1., 1.],\n",
       "        [1., 1., 1.]])"
      ]
     },
     "execution_count": 12,
     "metadata": {},
     "output_type": "execute_result"
    }
   ],
   "source": [
    "ones_torch = torch.ones(shape)\n",
    "ones_torch"
   ]
  },
  {
   "cell_type": "code",
   "execution_count": 13,
   "id": "d5f0ca8e",
   "metadata": {},
   "outputs": [
    {
     "data": {
      "text/plain": [
       "tensor([[0., 0., 0.],\n",
       "        [0., 0., 0.]])"
      ]
     },
     "execution_count": 13,
     "metadata": {},
     "output_type": "execute_result"
    }
   ],
   "source": [
    "zeors_tensor = torch.zeros(shape)\n",
    "zeors_tensor"
   ]
  },
  {
   "cell_type": "markdown",
   "id": "f0bf6767",
   "metadata": {},
   "source": [
    "## 텐서의 속성(Attribute)"
   ]
  },
  {
   "cell_type": "code",
   "execution_count": 14,
   "id": "1384abdb",
   "metadata": {},
   "outputs": [
    {
     "name": "stdout",
     "output_type": "stream",
     "text": [
      "Shape of tensor: torch.Size([3, 4])\n",
      "Datatype of tensor: torch.float32\n",
      "Device tensor is stored on: cpu\n"
     ]
    }
   ],
   "source": [
    "tensor = torch.rand(3,4)\n",
    "\n",
    "print(f\"Shape of tensor: {tensor.shape}\")\n",
    "print(f\"Datatype of tensor: {tensor.dtype}\")\n",
    "print(f\"Device tensor is stored on: {tensor.device}\")"
   ]
  },
  {
   "cell_type": "markdown",
   "id": "26cc8ca5",
   "metadata": {},
   "source": [
    "## 텐서에 GPU 할당"
   ]
  },
  {
   "cell_type": "code",
   "execution_count": 16,
   "id": "fe2e6e1b",
   "metadata": {},
   "outputs": [],
   "source": [
    "# GPU가 존재하면 텐서를 GPU에 할당\n",
    "if torch.cuda.is_available():\n",
    "    tensor = tensor.to('cuda')"
   ]
  },
  {
   "cell_type": "markdown",
   "id": "22f495cf",
   "metadata": {},
   "source": [
    "## 텐서 연산(Operation)"
   ]
  },
  {
   "cell_type": "markdown",
   "id": "cdc8621d",
   "metadata": {},
   "source": [
    "### Numpy식의 표준 인덱싱과 슬라이싱"
   ]
  },
  {
   "cell_type": "code",
   "execution_count": 18,
   "id": "2ad171ad",
   "metadata": {},
   "outputs": [
    {
     "name": "stdout",
     "output_type": "stream",
     "text": [
      "First row:  tensor([1., 1., 1., 1.])\n",
      "First column:  tensor([1., 1., 1., 1.])\n",
      "Last column: tensor([1., 1., 1., 1.])\n",
      "\n",
      " tensor([[1., 0., 1., 1.],\n",
      "        [1., 0., 1., 1.],\n",
      "        [1., 0., 1., 1.],\n",
      "        [1., 0., 1., 1.]])\n"
     ]
    }
   ],
   "source": [
    "tensor = torch.ones(4, 4)\n",
    "\n",
    "print('First row: ', tensor[0])\n",
    "print('First column: ', tensor[:, 0])\n",
    "print('Last column:', tensor[..., -1])\n",
    "\n",
    "tensor[:,1] = 0\n",
    "\n",
    "print('\\n',tensor)"
   ]
  },
  {
   "cell_type": "markdown",
   "id": "63d0a059",
   "metadata": {},
   "source": [
    "### 텐서 합치기"
   ]
  },
  {
   "cell_type": "code",
   "execution_count": 19,
   "id": "4c25fec3",
   "metadata": {},
   "outputs": [
    {
     "data": {
      "text/plain": [
       "tensor([[1., 0., 1., 1., 1., 0., 1., 1., 1., 0., 1., 1.],\n",
       "        [1., 0., 1., 1., 1., 0., 1., 1., 1., 0., 1., 1.],\n",
       "        [1., 0., 1., 1., 1., 0., 1., 1., 1., 0., 1., 1.],\n",
       "        [1., 0., 1., 1., 1., 0., 1., 1., 1., 0., 1., 1.]])"
      ]
     },
     "execution_count": 19,
     "metadata": {},
     "output_type": "execute_result"
    }
   ],
   "source": [
    "t1 = torch.cat([tensor, tensor, tensor], dim=1)\n",
    "t1"
   ]
  },
  {
   "cell_type": "markdown",
   "id": "3bedf5e5",
   "metadata": {},
   "source": [
    "###  산술연산"
   ]
  },
  {
   "cell_type": "code",
   "execution_count": 25,
   "id": "0fc4b912",
   "metadata": {},
   "outputs": [
    {
     "name": "stdout",
     "output_type": "stream",
     "text": [
      "y1=y2=y3\n",
      "tensor([[3., 3., 3., 3.],\n",
      "        [3., 3., 3., 3.],\n",
      "        [3., 3., 3., 3.],\n",
      "        [3., 3., 3., 3.]])\n"
     ]
    }
   ],
   "source": [
    "# 행렬 곱\n",
    "y1 = tensor @ tensor.T\n",
    "y2 = tensor.matmul(tensor.T)\n",
    "y3 = torch.matmul(tensor, tensor.T)\n",
    "\n",
    "print(f\"y1=y2=y3\\n{y1}\")"
   ]
  },
  {
   "cell_type": "code",
   "execution_count": 30,
   "id": "21d3e226",
   "metadata": {},
   "outputs": [
    {
     "name": "stdout",
     "output_type": "stream",
     "text": [
      "z1=z2=z3\n",
      "tensor([[1., 0., 1., 1.],\n",
      "        [0., 0., 0., 0.],\n",
      "        [1., 0., 1., 1.],\n",
      "        [1., 0., 1., 1.]])\n"
     ]
    }
   ],
   "source": [
    "# 요소별 곱\n",
    "z1 = tensor * tensor.T\n",
    "z2 = tensor.mul(tensor.T)\n",
    "z3 = torch.mul(tensor, tensor.T)\n",
    "\n",
    "print(f\"z1=z2=z3\\n{z1}\")"
   ]
  },
  {
   "cell_type": "code",
   "execution_count": 32,
   "id": "49562e29",
   "metadata": {},
   "outputs": [
    {
     "data": {
      "text/plain": [
       "12.0"
      ]
     },
     "execution_count": 32,
     "metadata": {},
     "output_type": "execute_result"
    }
   ],
   "source": [
    "# 집계\n",
    "agg = tensor.sum().item()\n",
    "agg"
   ]
  },
  {
   "cell_type": "markdown",
   "id": "453aa071",
   "metadata": {},
   "source": [
    "## Numpy 변환\n",
    "- CPU 상의 텐서와 NumPy 배열은 메모리 공간을 공유하기 때문에, 하나를 변경하면 다른 하나도 변경됩니다."
   ]
  },
  {
   "cell_type": "code",
   "execution_count": 38,
   "id": "ce697d7b",
   "metadata": {},
   "outputs": [
    {
     "name": "stdout",
     "output_type": "stream",
     "text": [
      "t: tensor([1., 1., 1., 1., 1.])\n",
      "n: [1. 1. 1. 1. 1.]\n"
     ]
    }
   ],
   "source": [
    "t = torch.ones(5)\n",
    "print(f\"t: {t}\")\n",
    "\n",
    "n = t.numpy()\n",
    "print(f\"n: {n}\")"
   ]
  },
  {
   "cell_type": "code",
   "execution_count": 39,
   "id": "4293cb33",
   "metadata": {},
   "outputs": [
    {
     "name": "stdout",
     "output_type": "stream",
     "text": [
      "t: tensor([2., 2., 2., 2., 2.])\n",
      "n: [2. 2. 2. 2. 2.]\n"
     ]
    }
   ],
   "source": [
    "# 하나를 변경하면 다른 하나도 변경\n",
    "t += 1\n",
    "\n",
    "print(f\"t: {t}\")\n",
    "print(f\"n: {n}\")"
   ]
  }
 ],
 "metadata": {
  "kernelspec": {
   "display_name": "Python 3 (ipykernel)",
   "language": "python",
   "name": "python3"
  },
  "language_info": {
   "codemirror_mode": {
    "name": "ipython",
    "version": 3
   },
   "file_extension": ".py",
   "mimetype": "text/x-python",
   "name": "python",
   "nbconvert_exporter": "python",
   "pygments_lexer": "ipython3",
   "version": "3.8.12"
  }
 },
 "nbformat": 4,
 "nbformat_minor": 5
}
