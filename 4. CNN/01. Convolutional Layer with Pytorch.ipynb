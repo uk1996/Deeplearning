{
 "cells": [
  {
   "cell_type": "code",
   "execution_count": 1,
   "id": "df1bdd61",
   "metadata": {},
   "outputs": [],
   "source": [
    "import torch\n",
    "import torch.nn as nn"
   ]
  },
  {
   "cell_type": "markdown",
   "id": "495877ab",
   "metadata": {},
   "source": [
    "## 사용 방법\n",
    "- torch.nn.Conv2d(input channel, output channel, kernel_size, stride, padding)"
   ]
  },
  {
   "cell_type": "markdown",
   "id": "9b9dd57e",
   "metadata": {},
   "source": [
    "## shape\n",
    "$$shape = \\displaystyle \\frac{(Input shape) - (kernel size)+ 2*(padding)}{stride} + 1$$"
   ]
  },
  {
   "cell_type": "markdown",
   "id": "ee786300",
   "metadata": {},
   "source": [
    "### Example 1"
   ]
  },
  {
   "cell_type": "code",
   "execution_count": 7,
   "id": "1245a4a0",
   "metadata": {},
   "outputs": [
    {
     "data": {
      "text/plain": [
       "torch.Size([1, 3, 57, 57])"
      ]
     },
     "execution_count": 7,
     "metadata": {},
     "output_type": "execute_result"
    }
   ],
   "source": [
    "input_data = torch.Tensor(1, 3, 57, 57)\n",
    "input_data.shape"
   ]
  },
  {
   "cell_type": "code",
   "execution_count": 9,
   "id": "0c264e5c",
   "metadata": {},
   "outputs": [
    {
     "data": {
      "text/plain": [
       "Conv2d(3, 32, kernel_size=(3, 3), stride=(2, 2))"
      ]
     },
     "execution_count": 9,
     "metadata": {},
     "output_type": "execute_result"
    }
   ],
   "source": [
    "conv = nn.Conv2d(3, 32, 3, 2, 0)\n",
    "conv"
   ]
  },
  {
   "cell_type": "code",
   "execution_count": 11,
   "id": "574e2396",
   "metadata": {},
   "outputs": [
    {
     "data": {
      "text/plain": [
       "torch.Size([1, 32, 28, 28])"
      ]
     },
     "execution_count": 11,
     "metadata": {},
     "output_type": "execute_result"
    }
   ],
   "source": [
    "output_data = conv(input_data)\n",
    "output_data.shape"
   ]
  },
  {
   "cell_type": "markdown",
   "id": "20c23b7b",
   "metadata": {},
   "source": [
    "### Example 2"
   ]
  },
  {
   "cell_type": "code",
   "execution_count": 12,
   "id": "b25d6dc9",
   "metadata": {},
   "outputs": [
    {
     "data": {
      "text/plain": [
       "torch.Size([1, 3, 128, 128])"
      ]
     },
     "execution_count": 12,
     "metadata": {},
     "output_type": "execute_result"
    }
   ],
   "source": [
    "input_data = torch.Tensor(1, 3, 128, 128)\n",
    "input_data.shape"
   ]
  },
  {
   "cell_type": "code",
   "execution_count": 13,
   "id": "9876af54",
   "metadata": {},
   "outputs": [
    {
     "data": {
      "text/plain": [
       "Conv2d(3, 32, kernel_size=(5, 5), stride=(2, 2), padding=(1, 1))"
      ]
     },
     "execution_count": 13,
     "metadata": {},
     "output_type": "execute_result"
    }
   ],
   "source": [
    "conv = nn.Conv2d(3, 32, 5, 2, 1)\n",
    "conv"
   ]
  },
  {
   "cell_type": "code",
   "execution_count": 15,
   "id": "1a40a55b",
   "metadata": {
    "scrolled": true
   },
   "outputs": [
    {
     "data": {
      "text/plain": [
       "torch.Size([1, 32, 63, 63])"
      ]
     },
     "execution_count": 15,
     "metadata": {},
     "output_type": "execute_result"
    }
   ],
   "source": [
    "output_data = conv(input_data)\n",
    "output_data.shape"
   ]
  },
  {
   "cell_type": "markdown",
   "id": "3ef529e9",
   "metadata": {},
   "source": [
    "### Example 3"
   ]
  },
  {
   "cell_type": "code",
   "execution_count": 16,
   "id": "b347db75",
   "metadata": {},
   "outputs": [
    {
     "data": {
      "text/plain": [
       "torch.Size([1, 4, 40, 40])"
      ]
     },
     "execution_count": 16,
     "metadata": {},
     "output_type": "execute_result"
    }
   ],
   "source": [
    "input_data = torch.Tensor(1, 4, 40, 40)\n",
    "input_data.shape"
   ]
  },
  {
   "cell_type": "code",
   "execution_count": 17,
   "id": "0a8807b3",
   "metadata": {},
   "outputs": [
    {
     "data": {
      "text/plain": [
       "Conv2d(4, 4, kernel_size=(4, 4), stride=(4, 4), padding=(4, 4))"
      ]
     },
     "execution_count": 17,
     "metadata": {},
     "output_type": "execute_result"
    }
   ],
   "source": [
    "conv = nn.Conv2d(4, 4, 4, 4, 4)\n",
    "conv"
   ]
  },
  {
   "cell_type": "code",
   "execution_count": 18,
   "id": "8a9f735f",
   "metadata": {},
   "outputs": [
    {
     "data": {
      "text/plain": [
       "torch.Size([1, 4, 12, 12])"
      ]
     },
     "execution_count": 18,
     "metadata": {},
     "output_type": "execute_result"
    }
   ],
   "source": [
    "output_data = conv(input_data)\n",
    "output_data.shape"
   ]
  }
 ],
 "metadata": {
  "kernelspec": {
   "display_name": "Python 3 (ipykernel)",
   "language": "python",
   "name": "python3"
  },
  "language_info": {
   "codemirror_mode": {
    "name": "ipython",
    "version": 3
   },
   "file_extension": ".py",
   "mimetype": "text/x-python",
   "name": "python",
   "nbconvert_exporter": "python",
   "pygments_lexer": "ipython3",
   "version": "3.8.5"
  }
 },
 "nbformat": 4,
 "nbformat_minor": 5
}
