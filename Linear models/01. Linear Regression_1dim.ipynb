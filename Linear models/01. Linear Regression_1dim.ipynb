{
 "cells": [
  {
   "cell_type": "code",
   "execution_count": 1,
   "id": "34714946",
   "metadata": {},
   "outputs": [],
   "source": [
    "import torch\n",
    "import torch.nn\n",
    "import numpy as np\n",
    "import matplotlib.pyplot as plt\n",
    "\n",
    "import warnings\n",
    "warnings.filterwarnings('ignore')"
   ]
  },
  {
   "cell_type": "markdown",
   "id": "c4bff82b",
   "metadata": {},
   "source": [
    "## Data"
   ]
  },
  {
   "cell_type": "code",
   "execution_count": 2,
   "id": "ebb04ec7",
   "metadata": {
    "scrolled": false
   },
   "outputs": [
    {
     "name": "stdout",
     "output_type": "stream",
     "text": [
      "x_train_tensor=\n",
      "tensor([[ 3.3000],\n",
      "        [ 4.4000],\n",
      "        [ 5.5000],\n",
      "        [ 6.1000],\n",
      "        [ 6.3000],\n",
      "        [ 4.8000],\n",
      "        [ 9.7000],\n",
      "        [ 6.2000],\n",
      "        [ 7.9000],\n",
      "        [ 2.7000],\n",
      "        [ 7.2000],\n",
      "        [10.1000],\n",
      "        [ 5.3000],\n",
      "        [ 7.7000],\n",
      "        [ 3.1000]])\n",
      "\n",
      "y_train_tensor=\n",
      "tensor([[1.7000],\n",
      "        [1.9000],\n",
      "        [2.0900],\n",
      "        [2.1000],\n",
      "        [1.9000],\n",
      "        [1.3000],\n",
      "        [3.3000],\n",
      "        [2.5000],\n",
      "        [2.5000],\n",
      "        [1.1000],\n",
      "        [2.7000],\n",
      "        [3.4000],\n",
      "        [1.5000],\n",
      "        [2.4000],\n",
      "        [1.3000]])\n"
     ]
    }
   ],
   "source": [
    "x_train = np.array([[3.3], [4.4], [5.5], [6.1], [6.3], [4.8], \n",
    "                    [9.7], [6.2], [7.9], [2.7], [7.2], \n",
    "                    [10.1], [5.3], [7.7], [3.1]])\n",
    "\n",
    "y_train = np.array([[1.7], [1.9], [2.09], [2.1], [1.9], [1.3], \n",
    "                    [3.3], [2.5], [2.5], [1.1], [2.7], \n",
    "                    [3.4], [1.5], [2.4], [1.3]])\n",
    "\n",
    "# 텐서화\n",
    "x_train_tensor = torch.FloatTensor(x_train)\n",
    "y_train_tensor = torch.FloatTensor(y_train)\n",
    "\n",
    "print(f\"x_train_tensor=\\n{x_train_tensor}\\n\")\n",
    "print(f\"y_train_tensor=\\n{y_train_tensor}\")"
   ]
  },
  {
   "cell_type": "code",
   "execution_count": 3,
   "id": "3c16fe9e",
   "metadata": {},
   "outputs": [
    {
     "data": {
      "image/png": "[encoded data removed]",
      "text/plain": [
       "<Figure size 504x504 with 1 Axes>"
      ]
     },
     "metadata": {
      "needs_background": "light"
     },
     "output_type": "display_data"
    }
   ],
   "source": [
    "# scatter plot\n",
    "\n",
    "fig, ax = plt.subplots(figsize=(7, 7))\n",
    "\n",
    "ax.scatter(x_train_tensor, y_train_tensor, \n",
    "          s=100, color='black')\n",
    "ax.set_xlabel('x_data', fontsize=13)\n",
    "ax.set_ylabel('y_data', fontsize=13)\n",
    "\n",
    "plt.show()"
   ]
  },
  {
   "cell_type": "markdown",
   "id": "6704c27e",
   "metadata": {},
   "source": [
    "## Hyper Parameter\n",
    "$$ Wnew = Wold - \\alpha \\nabla W $$"
   ]
  },
  {
   "cell_type": "code",
   "execution_count": 4,
   "id": "4bb2b8de",
   "metadata": {},
   "outputs": [],
   "source": [
    "# Hyper Parameter\n",
    "input_size = x_train_tensor.size()[-1]\n",
    "output_size = y_train_tensor.size()[-1]\n",
    "num_epochs = 50\n",
    "learning_rate = 0.01"
   ]
  },
  {
   "cell_type": "markdown",
   "id": "4596b732",
   "metadata": {},
   "source": [
    "## Model\n",
    "$$ H(x) = Wx + b $$"
   ]
  },
  {
   "cell_type": "code",
   "execution_count": 5,
   "id": "87699ec0",
   "metadata": {},
   "outputs": [],
   "source": [
    "# Linear regression model\n",
    "model = torch.nn.Linear(in_features=input_size, out_features=output_size)"
   ]
  },
  {
   "cell_type": "markdown",
   "id": "3292c348",
   "metadata": {},
   "source": [
    "$$ cost(W, b) = \\frac{1}{m} \\sum^m_{i=1} \\left( H(x^{(i)}) - y^{(i)} \\right)^2 $$"
   ]
  },
  {
   "cell_type": "code",
   "execution_count": 6,
   "id": "87210f8e",
   "metadata": {},
   "outputs": [],
   "source": [
    "# 손실함수, Optimizer 정의\n",
    "criterion = torch.nn.MSELoss()\n",
    "optimizer = torch.optim.SGD(params=model.parameters(), lr=learning_rate)"
   ]
  },
  {
   "cell_type": "markdown",
   "id": "ed184805",
   "metadata": {},
   "source": [
    "## Training"
   ]
  },
  {
   "cell_type": "code",
   "execution_count": 7,
   "id": "da758bb0",
   "metadata": {},
   "outputs": [
    {
     "name": "stdout",
     "output_type": "stream",
     "text": [
      "Epoch [2], Loss: 0.33\n",
      "Epoch [4], Loss: 0.06\n",
      "Epoch [6], Loss: 0.06\n",
      "Epoch [8], Loss: 0.06\n",
      "Epoch [10], Loss: 0.06\n",
      "Epoch [12], Loss: 0.06\n",
      "Epoch [14], Loss: 0.06\n",
      "Epoch [16], Loss: 0.06\n",
      "Epoch [18], Loss: 0.06\n",
      "Epoch [20], Loss: 0.06\n",
      "Epoch [22], Loss: 0.06\n",
      "Epoch [24], Loss: 0.06\n",
      "Epoch [26], Loss: 0.06\n",
      "Epoch [28], Loss: 0.06\n",
      "Epoch [30], Loss: 0.06\n",
      "Epoch [32], Loss: 0.06\n",
      "Epoch [34], Loss: 0.06\n",
      "Epoch [36], Loss: 0.06\n",
      "Epoch [38], Loss: 0.06\n",
      "Epoch [40], Loss: 0.06\n",
      "Epoch [42], Loss: 0.06\n",
      "Epoch [44], Loss: 0.06\n",
      "Epoch [46], Loss: 0.06\n",
      "Epoch [48], Loss: 0.06\n",
      "Epoch [50], Loss: 0.06\n"
     ]
    }
   ],
   "source": [
    "for epoch in range(num_epochs):\n",
    "    # 모델링\n",
    "    optimizer.zero_grad() # 한번 학습을 하고난 후 gradient를 zero로 만들어줌(gradient값은 누적해서 계속해서 더해지기 때문에 초기화를 해줘야함)\n",
    "    \n",
    "    outputs = model(x_train_tensor)\n",
    "    \n",
    "    loss = criterion(outputs, y_train_tensor)\n",
    "    \n",
    "    # 학습\n",
    "    loss.backward() # gradient 값을 계산(backpropagation 이용)\n",
    "    optimizer.step() # weight값을 업데이트\n",
    "    \n",
    "    # Loss 확인\n",
    "    if (epoch+1) % 2 == 0:\n",
    "        print(f\"Epoch [{epoch+1}], Loss: {loss.item():.2f}\")"
   ]
  },
  {
   "cell_type": "code",
   "execution_count": 8,
   "id": "1a30aa19",
   "metadata": {},
   "outputs": [
    {
     "data": {
      "image/png": "[encoded data removed]",
      "text/plain": [
       "<Figure size 504x504 with 1 Axes>"
      ]
     },
     "metadata": {
      "needs_background": "light"
     },
     "output_type": "display_data"
    }
   ],
   "source": [
    "predicted = model(x_train_tensor).detach().numpy()\n",
    "\n",
    "fig, ax = plt.subplots(figsize=(7, 7))\n",
    "ax.scatter(x_train, y_train, \n",
    "          c='black',\n",
    "          label='data')\n",
    "ax.plot(x_train, predicted,\n",
    "        color='red',\n",
    "       label='linear function')\n",
    "ax.legend()\n",
    "\n",
    "ax.set_xlabel('x_data', fontsize=13)\n",
    "ax.set_ylabel('y_data', fontsize=13)\n",
    "\n",
    "plt.show()"
   ]
  },
  {
   "cell_type": "markdown",
   "id": "f8ccc911",
   "metadata": {},
   "source": [
    "## 학습된 parameter 확인"
   ]
  },
  {
   "cell_type": "code",
   "execution_count": 9,
   "id": "5d865ce2",
   "metadata": {},
   "outputs": [
    {
     "data": {
      "text/plain": [
       "OrderedDict([('weight', tensor([[0.2948]])), ('bias', tensor([0.3335]))])"
      ]
     },
     "execution_count": 9,
     "metadata": {},
     "output_type": "execute_result"
    }
   ],
   "source": [
    "# parameter 확인\n",
    "model.state_dict()"
   ]
  },
  {
   "cell_type": "code",
   "execution_count": 10,
   "id": "3b584d37",
   "metadata": {},
   "outputs": [
    {
     "data": {
      "image/png": "[encoded data removed]",
      "text/plain": [
       "<Figure size 504x504 with 1 Axes>"
      ]
     },
     "metadata": {
      "needs_background": "light"
     },
     "output_type": "display_data"
    }
   ],
   "source": [
    "check_y = model.state_dict()['weight'].item()*x_train + model.state_dict()['bias'].item()\n",
    "\n",
    "fig, ax = plt.subplots(figsize=(7, 7))\n",
    "ax.scatter(x_train, y_train, \n",
    "          c='black',\n",
    "          label='data')\n",
    "ax.plot(x_train, check_y,\n",
    "        color='red',\n",
    "       label='linear function')\n",
    "ax.legend()\n",
    "\n",
    "ax.set_xlabel('x_data', fontsize=13)\n",
    "ax.set_ylabel('y_data', fontsize=13)\n",
    "\n",
    "plt.show()"
   ]
  }
 ],
 "metadata": {
  "kernelspec": {
   "display_name": "Python 3 (ipykernel)",
   "language": "python",
   "name": "python3"
  },
  "language_info": {
   "codemirror_mode": {
    "name": "ipython",
    "version": 3
   },
   "file_extension": ".py",
   "mimetype": "text/x-python",
   "name": "python",
   "nbconvert_exporter": "python",
   "pygments_lexer": "ipython3",
   "version": "3.8.5"
  }
 },
 "nbformat": 4,
 "nbformat_minor": 5
}
