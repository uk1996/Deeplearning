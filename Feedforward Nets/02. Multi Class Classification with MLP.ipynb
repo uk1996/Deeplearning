{
 "cells": [
  {
   "cell_type": "code",
   "execution_count": 1,
   "id": "5da598c4",
   "metadata": {},
   "outputs": [],
   "source": [
    "import numpy as np\n",
    "\n",
    "import warnings\n",
    "warnings.filterwarnings('ignore')\n",
    "\n",
    "import torch\n",
    "import torchvision\n",
    "import torchvision.transforms as transforms\n",
    "import torch.nn.functional as F\n",
    "from torch.utils.data import DataLoader\n",
    "\n",
    "import matplotlib.pyplot as plt"
   ]
  },
  {
   "cell_type": "markdown",
   "id": "2945b5ac",
   "metadata": {},
   "source": [
    "## Data"
   ]
  },
  {
   "cell_type": "code",
   "execution_count": 2,
   "id": "5c1953ad",
   "metadata": {},
   "outputs": [],
   "source": [
    "# MNIST dataset\n",
    "train_datasets = torchvision.datasets.MNIST(root='../../Deeplearning_dataset/', train=True, transform=transforms.ToTensor(), download=True)\n",
    "test_datasets = torchvision.datasets.MNIST(root='../../Deeplearning_dataset/', train=False, transform=transforms.ToTensor(), download=True)"
   ]
  },
  {
   "cell_type": "code",
   "execution_count": 3,
   "id": "c895b5a4",
   "metadata": {},
   "outputs": [
    {
     "name": "stdout",
     "output_type": "stream",
     "text": [
      "X_train shape: torch.Size([60000, 28, 28])\n",
      "y_train shape: torch.Size([60000])\n",
      "\n",
      "X_test shape: torch.Size([10000, 28, 28])\n",
      "y_test shape: torch.Size([10000])\n"
     ]
    }
   ],
   "source": [
    "# data 확인\n",
    "print(f\"X_train shape: {train_datasets.data.shape}\")\n",
    "print(f\"y_train shape: {train_datasets.targets.shape}\\n\")\n",
    "\n",
    "print(f\"X_test shape: {test_datasets.data.shape}\")\n",
    "print(f\"y_test shape: {test_datasets.targets.shape}\")"
   ]
  },
  {
   "cell_type": "code",
   "execution_count": 4,
   "id": "4285b34d",
   "metadata": {},
   "outputs": [
    {
     "name": "stdout",
     "output_type": "stream",
     "text": [
      "0번째 배치\n",
      "X_batch shape: torch.Size([100, 1, 28, 28])\n",
      "y_batch shape: torch.Size([100])\n"
     ]
    },
    {
     "data": {
      "image/png": "[encoded data removed]",
      "text/plain": [
       "<Figure size 360x360 with 1 Axes>"
      ]
     },
     "metadata": {
      "needs_background": "light"
     },
     "output_type": "display_data"
    }
   ],
   "source": [
    "## Data loader(배치화 하기 위하여 사용)\n",
    "batch_size=100\n",
    "\n",
    "train_loader = DataLoader(dataset=train_datasets, batch_size=batch_size, shuffle=True, drop_last=True)\n",
    "test_loader = DataLoader(dataset=test_datasets, batch_size=batch_size, shuffle=False, drop_last=False)\n",
    "\n",
    "# 배치화된 데이터 확인\n",
    "for batch_idx, (X_batch, y_batch) in enumerate(train_loader):\n",
    "    print(f\"{batch_idx}번째 배치\")\n",
    "    print(f\"X_batch shape: {X_batch.shape}\")\n",
    "    print(f\"y_batch shape: {y_batch.shape}\")\n",
    "    \n",
    "    fig, ax = plt.subplots(figsize=(5, 5))\n",
    "    ax.imshow(X_batch[0].squeeze(), cmap='gray')\n",
    "    ax.axis('off')\n",
    "    ax.set_title('Data example')\n",
    "    break\n",
    "plt.show()"
   ]
  },
  {
   "cell_type": "markdown",
   "id": "0992c616",
   "metadata": {},
   "source": [
    "## Model"
   ]
  },
  {
   "cell_type": "code",
   "execution_count": 5,
   "id": "9d06829b",
   "metadata": {},
   "outputs": [],
   "source": [
    "class MLP_model(torch.nn.Module):\n",
    "    def __init__(self, input_size, num_classes):\n",
    "        super(MLP_model, self).__init__()\n",
    "        self.input_size = input_size\n",
    "        self.num_classes = num_classes\n",
    "        self.fc1 = torch.nn.Linear(input_size, 128)\n",
    "        self.fc2 = torch.nn.Linear(128, 64)\n",
    "        self.fc3 = torch.nn.Linear(64, 32)\n",
    "        self.fc4 = torch.nn.Linear(32, 10)\n",
    "        self.relu = torch.nn.ReLU()\n",
    "        \n",
    "    def forward(self, x):\n",
    "        fc1 = self.fc1(x)\n",
    "        a1 = self.relu(fc1)\n",
    "        fc2 = self.fc2(a1)\n",
    "        a2 = self.relu(fc2)\n",
    "        fc3 = self.fc3(a2)\n",
    "        a3 = self.relu(fc3)\n",
    "        fc4 = self.fc4(a3) # 마지막 layer에 softmax를 사용하지 않는이유: CrossEntropyLoss()에 softmax 연산이 포함됨\n",
    "        return fc4"
   ]
  },
  {
   "cell_type": "code",
   "execution_count": 6,
   "id": "d1d2bb7c",
   "metadata": {},
   "outputs": [],
   "source": [
    "# Hyper parameters\n",
    "input_dim = np.array(train_datasets.data.shape[-2:]).prod()\n",
    "num_classes = len(train_datasets.classes)\n",
    "num_epochs = 20\n",
    "learning_rate = 0.05"
   ]
  },
  {
   "cell_type": "code",
   "execution_count": 7,
   "id": "c93c8898",
   "metadata": {},
   "outputs": [],
   "source": [
    "model = MLP_model(input_size=input_dim, num_classes=num_classes)"
   ]
  },
  {
   "cell_type": "code",
   "execution_count": 8,
   "id": "a653f6e9",
   "metadata": {},
   "outputs": [],
   "source": [
    "# 손실함수 생성\n",
    "criterion = torch.nn.CrossEntropyLoss() # CrossEntropyLoss()에 softmax 연산이 포함됨\n",
    "\n",
    "# Optimizer 생성\n",
    "optimizer = torch.optim.SGD(params=model.parameters(), lr=learning_rate)"
   ]
  },
  {
   "cell_type": "markdown",
   "id": "46a77140",
   "metadata": {},
   "source": [
    "## Training"
   ]
  },
  {
   "cell_type": "code",
   "execution_count": 9,
   "id": "bdf4f9ba",
   "metadata": {},
   "outputs": [
    {
     "name": "stdout",
     "output_type": "stream",
     "text": [
      "Epoch:[1] train_loss: 0.463, train_acc: 86.00% / test_loss: 0.396, test_acc: 88.79%\n",
      "Epoch:[2] train_loss: 0.475, train_acc: 89.00% / test_loss: 0.281, test_acc: 91.91%\n",
      "Epoch:[3] train_loss: 0.245, train_acc: 94.00% / test_loss: 0.221, test_acc: 93.63%\n",
      "Epoch:[4] train_loss: 0.249, train_acc: 92.00% / test_loss: 0.183, test_acc: 94.61%\n",
      "Epoch:[5] train_loss: 0.093, train_acc: 98.00% / test_loss: 0.151, test_acc: 95.48%\n",
      "Epoch:[6] train_loss: 0.073, train_acc: 97.00% / test_loss: 0.133, test_acc: 95.75%\n",
      "Epoch:[7] train_loss: 0.132, train_acc: 97.00% / test_loss: 0.116, test_acc: 96.46%\n",
      "Epoch:[8] train_loss: 0.047, train_acc: 99.00% / test_loss: 0.111, test_acc: 96.74%\n",
      "Epoch:[9] train_loss: 0.058, train_acc: 96.00% / test_loss: 0.102, test_acc: 96.86%\n",
      "Epoch:[10] train_loss: 0.058, train_acc: 98.00% / test_loss: 0.097, test_acc: 96.98%\n",
      "Epoch:[11] train_loss: 0.106, train_acc: 95.00% / test_loss: 0.100, test_acc: 96.87%\n",
      "Epoch:[12] train_loss: 0.118, train_acc: 96.00% / test_loss: 0.088, test_acc: 97.38%\n",
      "Epoch:[13] train_loss: 0.043, train_acc: 99.00% / test_loss: 0.084, test_acc: 97.22%\n",
      "Epoch:[14] train_loss: 0.110, train_acc: 95.00% / test_loss: 0.102, test_acc: 96.93%\n",
      "Epoch:[15] train_loss: 0.083, train_acc: 98.00% / test_loss: 0.081, test_acc: 97.51%\n",
      "Epoch:[16] train_loss: 0.032, train_acc: 98.00% / test_loss: 0.077, test_acc: 97.58%\n",
      "Epoch:[17] train_loss: 0.069, train_acc: 98.00% / test_loss: 0.089, test_acc: 97.26%\n",
      "Epoch:[18] train_loss: 0.023, train_acc: 99.00% / test_loss: 0.078, test_acc: 97.60%\n",
      "Epoch:[19] train_loss: 0.023, train_acc: 99.00% / test_loss: 0.082, test_acc: 97.58%\n",
      "Epoch:[20] train_loss: 0.025, train_acc: 98.00% / test_loss: 0.086, test_acc: 97.44%\n"
     ]
    }
   ],
   "source": [
    "train_loss_list = []\n",
    "train_acc_list = []\n",
    "test_loss_list = []\n",
    "test_acc_list = []\n",
    "\n",
    "for epoch in range(num_epochs):\n",
    "    # 배치 학습\n",
    "    for batch_idx, (X_batch, y_batch) in enumerate(train_loader):\n",
    "        model.train()\n",
    "        optimizer.zero_grad()\n",
    "        \n",
    "        X_batch = X_batch.reshape(batch_size, -1)\n",
    "        \n",
    "        output = model(X_batch)\n",
    "        loss_train = criterion(output, y_batch)\n",
    "        \n",
    "        output_softmax = F.softmax(output, dim=1)\n",
    "        train_pred_class = torch.argmax(output_softmax.data, dim=1)\n",
    "        acc_train = (train_pred_class == y_batch).numpy().mean()\n",
    "        \n",
    "        loss_train.backward()\n",
    "        optimizer.step()\n",
    "        \n",
    "    train_loss_list.append(loss_train.item())\n",
    "    train_acc_list.append(acc_train)\n",
    "    \n",
    "    # Validation\n",
    "    with torch.no_grad():\n",
    "        correct = 0\n",
    "        total = 0\n",
    "        test_loss = []\n",
    "        for test_batch_idx, (X_test_batch, y_test_batch) in enumerate(test_loader): \n",
    "            X_test_batch = X_test_batch.reshape(batch_size, -1)\n",
    "\n",
    "            test_output = model(X_test_batch)\n",
    "            loss_test = criterion(test_output, y_test_batch)\n",
    "            \n",
    "            test_output_softmax = F.softmax(test_output, dim=1)\n",
    "            test_pred_class = torch.argmax(test_output_softmax.data, dim=1)\n",
    "\n",
    "            test_loss.append(loss_test.item())\n",
    "            correct += (test_pred_class == y_test_batch).sum().item()\n",
    "            total += len(y_test_batch)\n",
    "        test_acc_list.append(correct/total)\n",
    "        test_loss_list.append(np.array(test_loss).mean())\n",
    "    \n",
    "    \n",
    "    print(f\"Epoch:[{epoch+1}] train_loss: {train_loss_list[-1]:.3f}, train_acc: {train_acc_list[-1]*100:.2f}% /\", end=' ')\n",
    "    print(f\"test_loss: {test_loss_list[-1]:.3f}, test_acc: {test_acc_list[-1]*100:.2f}%\")"
   ]
  },
  {
   "cell_type": "code",
   "execution_count": 11,
   "id": "c76008cf",
   "metadata": {},
   "outputs": [
    {
     "data": {
      "image/png": "[encoded data removed]",
      "text/plain": [
       "<Figure size 864x288 with 2 Axes>"
      ]
     },
     "metadata": {
      "needs_background": "light"
     },
     "output_type": "display_data"
    }
   ],
   "source": [
    "## Loss\n",
    "fig, axes = plt.subplots(1, 2, figsize=(12, 4))\n",
    "\n",
    "axes[0].plot(range(1, 21), train_loss_list, label='train')\n",
    "axes[0].plot(range(1, 21), test_loss_list, label='test')\n",
    "axes[0].set_title('Train Loss', fontsize=12)\n",
    "axes[0].set_xlabel('Epoch')\n",
    "axes[0].set_ylabel('Loss')\n",
    "axes[0].set_xticks([1] + list(range(0, 21, 5)))\n",
    "axes[0].legend()\n",
    "\n",
    "axes[1].plot(range(1, 21), train_acc_list, label='train')\n",
    "axes[1].plot(range(1, 21), test_acc_list, label='test')\n",
    "axes[1].set_title('Train Accuracy', fontsize=12)\n",
    "axes[1].set_xlabel('Epoch')\n",
    "axes[1].set_ylabel('Accuracy')\n",
    "axes[1].set_xticks([1] + list(range(0, 21, 5)))\n",
    "axes[1].legend()\n",
    "\n",
    "plt.show()"
   ]
  }
 ],
 "metadata": {
  "kernelspec": {
   "display_name": "Python 3 (ipykernel)",
   "language": "python",
   "name": "python3"
  },
  "language_info": {
   "codemirror_mode": {
    "name": "ipython",
    "version": 3
   },
   "file_extension": ".py",
   "mimetype": "text/x-python",
   "name": "python",
   "nbconvert_exporter": "python",
   "pygments_lexer": "ipython3",
   "version": "3.8.5"
  }
 },
 "nbformat": 4,
 "nbformat_minor": 5
}
