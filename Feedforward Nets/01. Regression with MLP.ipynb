{
 "cells": [
  {
   "cell_type": "code",
   "execution_count": 1,
   "id": "7c39b7b5",
   "metadata": {},
   "outputs": [],
   "source": [
    "import numpy as np\n",
    "import pandas as pd\n",
    "\n",
    "from sklearn.preprocessing import StandardScaler\n",
    "from sklearn.model_selection import train_test_split\n",
    "\n",
    "import torch\n",
    "import torch.functional as F\n",
    "from torch.utils.data import TensorDataset, Dataset, DataLoader\n",
    "\n",
    "import matplotlib.pyplot as plt\n",
    "\n",
    "import warnings\n",
    "warnings.filterwarnings('ignore')"
   ]
  },
  {
   "cell_type": "markdown",
   "id": "db8ada5b",
   "metadata": {},
   "source": [
    "## Data"
   ]
  },
  {
   "cell_type": "code",
   "execution_count": 2,
   "id": "ba9b7b02",
   "metadata": {},
   "outputs": [],
   "source": [
    "df_raw = pd.read_csv('../../Deeplearning_dataset/BostonHousing.csv')"
   ]
  },
  {
   "cell_type": "code",
   "execution_count": 3,
   "id": "49a4e1af",
   "metadata": {},
   "outputs": [
    {
     "data": {
      "text/html": [
       "<div>\n",
       "<style scoped>\n",
       "    .dataframe tbody tr th:only-of-type {\n",
       "        vertical-align: middle;\n",
       "    }\n",
       "\n",
       "    .dataframe tbody tr th {\n",
       "        vertical-align: top;\n",
       "    }\n",
       "\n",
       "    .dataframe thead th {\n",
       "        text-align: right;\n",
       "    }\n",
       "</style>\n",
       "<table border=\"1\" class=\"dataframe\">\n",
       "  <thead>\n",
       "    <tr style=\"text-align: right;\">\n",
       "      <th></th>\n",
       "      <th>crim</th>\n",
       "      <th>zn</th>\n",
       "      <th>indus</th>\n",
       "      <th>chas</th>\n",
       "      <th>nox</th>\n",
       "      <th>rm</th>\n",
       "      <th>age</th>\n",
       "      <th>dis</th>\n",
       "      <th>rad</th>\n",
       "      <th>tax</th>\n",
       "      <th>ptratio</th>\n",
       "      <th>black</th>\n",
       "      <th>lstat</th>\n",
       "      <th>medv</th>\n",
       "    </tr>\n",
       "  </thead>\n",
       "  <tbody>\n",
       "    <tr>\n",
       "      <th>0</th>\n",
       "      <td>0.00632</td>\n",
       "      <td>18.0</td>\n",
       "      <td>2.31</td>\n",
       "      <td>0</td>\n",
       "      <td>0.538</td>\n",
       "      <td>6.575</td>\n",
       "      <td>65.2</td>\n",
       "      <td>4.0900</td>\n",
       "      <td>1</td>\n",
       "      <td>296</td>\n",
       "      <td>15.3</td>\n",
       "      <td>396.90</td>\n",
       "      <td>4.98</td>\n",
       "      <td>24.0</td>\n",
       "    </tr>\n",
       "    <tr>\n",
       "      <th>1</th>\n",
       "      <td>0.02731</td>\n",
       "      <td>0.0</td>\n",
       "      <td>7.07</td>\n",
       "      <td>0</td>\n",
       "      <td>0.469</td>\n",
       "      <td>6.421</td>\n",
       "      <td>78.9</td>\n",
       "      <td>4.9671</td>\n",
       "      <td>2</td>\n",
       "      <td>242</td>\n",
       "      <td>17.8</td>\n",
       "      <td>396.90</td>\n",
       "      <td>9.14</td>\n",
       "      <td>21.6</td>\n",
       "    </tr>\n",
       "    <tr>\n",
       "      <th>2</th>\n",
       "      <td>0.02729</td>\n",
       "      <td>0.0</td>\n",
       "      <td>7.07</td>\n",
       "      <td>0</td>\n",
       "      <td>0.469</td>\n",
       "      <td>7.185</td>\n",
       "      <td>61.1</td>\n",
       "      <td>4.9671</td>\n",
       "      <td>2</td>\n",
       "      <td>242</td>\n",
       "      <td>17.8</td>\n",
       "      <td>392.83</td>\n",
       "      <td>4.03</td>\n",
       "      <td>34.7</td>\n",
       "    </tr>\n",
       "    <tr>\n",
       "      <th>3</th>\n",
       "      <td>0.03237</td>\n",
       "      <td>0.0</td>\n",
       "      <td>2.18</td>\n",
       "      <td>0</td>\n",
       "      <td>0.458</td>\n",
       "      <td>6.998</td>\n",
       "      <td>45.8</td>\n",
       "      <td>6.0622</td>\n",
       "      <td>3</td>\n",
       "      <td>222</td>\n",
       "      <td>18.7</td>\n",
       "      <td>394.63</td>\n",
       "      <td>2.94</td>\n",
       "      <td>33.4</td>\n",
       "    </tr>\n",
       "    <tr>\n",
       "      <th>4</th>\n",
       "      <td>0.06905</td>\n",
       "      <td>0.0</td>\n",
       "      <td>2.18</td>\n",
       "      <td>0</td>\n",
       "      <td>0.458</td>\n",
       "      <td>7.147</td>\n",
       "      <td>54.2</td>\n",
       "      <td>6.0622</td>\n",
       "      <td>3</td>\n",
       "      <td>222</td>\n",
       "      <td>18.7</td>\n",
       "      <td>396.90</td>\n",
       "      <td>5.33</td>\n",
       "      <td>36.2</td>\n",
       "    </tr>\n",
       "  </tbody>\n",
       "</table>\n",
       "</div>"
      ],
      "text/plain": [
       "      crim    zn  indus  chas    nox     rm   age     dis  rad  tax  ptratio  \\\n",
       "0  0.00632  18.0   2.31     0  0.538  6.575  65.2  4.0900    1  296     15.3   \n",
       "1  0.02731   0.0   7.07     0  0.469  6.421  78.9  4.9671    2  242     17.8   \n",
       "2  0.02729   0.0   7.07     0  0.469  7.185  61.1  4.9671    2  242     17.8   \n",
       "3  0.03237   0.0   2.18     0  0.458  6.998  45.8  6.0622    3  222     18.7   \n",
       "4  0.06905   0.0   2.18     0  0.458  7.147  54.2  6.0622    3  222     18.7   \n",
       "\n",
       "    black  lstat  medv  \n",
       "0  396.90   4.98  24.0  \n",
       "1  396.90   9.14  21.6  \n",
       "2  392.83   4.03  34.7  \n",
       "3  394.63   2.94  33.4  \n",
       "4  396.90   5.33  36.2  "
      ]
     },
     "execution_count": 3,
     "metadata": {},
     "output_type": "execute_result"
    }
   ],
   "source": [
    "df_raw.head()"
   ]
  },
  {
   "cell_type": "code",
   "execution_count": 4,
   "id": "2403d3ca",
   "metadata": {},
   "outputs": [
    {
     "name": "stdout",
     "output_type": "stream",
     "text": [
      "X shape: (506, 13)\n",
      "y shape: (506,)\n"
     ]
    }
   ],
   "source": [
    "X = df_raw.drop('medv', axis=1)\n",
    "y = df_raw['medv']\n",
    "\n",
    "print(f\"X shape: {X.shape}\")\n",
    "print(f\"y shape: {y.shape}\")"
   ]
  },
  {
   "cell_type": "code",
   "execution_count": 5,
   "id": "0d86b910",
   "metadata": {},
   "outputs": [
    {
     "name": "stdout",
     "output_type": "stream",
     "text": [
      "X_train shape: (354, 13)\n",
      "y_train shape: (354,)\n",
      "\n",
      "X_train shape: (152, 13)\n",
      "y_train shape: (152,)\n"
     ]
    }
   ],
   "source": [
    "# 학습 데이터와 테스트 데이터를 일정 비율로 나누기\n",
    "X_train, X_test, y_train, y_test = train_test_split(X, y, test_size=0.3, shuffle=True, random_state=1234)\n",
    "\n",
    "print(f\"X_train shape: {X_train.shape}\")\n",
    "print(f\"y_train shape: {y_train.shape}\\n\")\n",
    "\n",
    "print(f\"X_train shape: {X_test.shape}\")\n",
    "print(f\"y_train shape: {y_test.shape}\")"
   ]
  },
  {
   "cell_type": "markdown",
   "id": "1fdff514",
   "metadata": {},
   "source": [
    "### Scaling"
   ]
  },
  {
   "cell_type": "code",
   "execution_count": 6,
   "id": "d8d529b6",
   "metadata": {},
   "outputs": [],
   "source": [
    "scaler = StandardScaler() # Standardization 객체 생성\n",
    "scaler.fit(X_train)\n",
    "\n",
    "X_train_scale = scaler.transform(X_train) # X_train Standardization\n",
    "X_test_scale = scaler.transform(X_test) # X_test Standardization\n",
    "\n",
    "# array -> tensor\n",
    "X_train_tensor = torch.FloatTensor(X_train_scale)\n",
    "y_train_tensor = torch.FloatTensor(y_train.values)\n",
    "\n",
    "X_test_tensor = torch.FloatTensor(X_test_scale)\n",
    "y_test_tensor = torch.FloatTensor(y_test.values)"
   ]
  },
  {
   "cell_type": "markdown",
   "id": "2f2fb06a",
   "metadata": {},
   "source": [
    "### Batchfy"
   ]
  },
  {
   "cell_type": "code",
   "execution_count": 7,
   "id": "1a2ae30a",
   "metadata": {},
   "outputs": [
    {
     "name": "stdout",
     "output_type": "stream",
     "text": [
      "0\n",
      "torch.Size([100, 13])\n",
      "torch.Size([100])\n",
      "\n",
      "1\n",
      "torch.Size([100, 13])\n",
      "torch.Size([100])\n",
      "\n",
      "2\n",
      "torch.Size([100, 13])\n",
      "torch.Size([100])\n",
      "\n",
      "3\n",
      "torch.Size([54, 13])\n",
      "torch.Size([54])\n"
     ]
    }
   ],
   "source": [
    "# 학습 데이터 배치화\n",
    "train_data = TensorDataset(X_train_tensor, y_train_tensor)\n",
    "dataloader = DataLoader(train_data, batch_size=100, shuffle=True, drop_last=False)\n",
    "\n",
    "# 배치화된 데이터 확인\n",
    "for batch_idx, (X_batch, y_batch) in enumerate(dataloader):\n",
    "    print(batch_idx)\n",
    "    print(X_batch.shape)\n",
    "    print(y_batch.shape)\n",
    "    if batch_idx + 1 < len(dataloader):\n",
    "        print()"
   ]
  },
  {
   "cell_type": "markdown",
   "id": "f06283f9",
   "metadata": {},
   "source": [
    "## Model"
   ]
  },
  {
   "cell_type": "code",
   "execution_count": 8,
   "id": "7398283d",
   "metadata": {},
   "outputs": [],
   "source": [
    "class MLP_Model(torch.nn.Module):\n",
    "    def __init__(self, input_size, hidden_size_1, hidden_size_2, output_size):\n",
    "        super(MLP_Model, self).__init__()\n",
    "        self.input_size = input_size\n",
    "        self.hidden_size_1 = hidden_size_1\n",
    "        self.hidden_size_2 = hidden_size_2\n",
    "        self.output_size = output_size\n",
    "        \n",
    "        self.fc1 = torch.nn.Linear(self.input_size, self.hidden_size_1)\n",
    "        self.fc2 = torch.nn.Linear(self.hidden_size_1, self.hidden_size_2)\n",
    "        self.fc3 = torch.nn.Linear(self.hidden_size_2, self.output_size)\n",
    "        self.relu = torch.nn.ReLU()\n",
    "    \n",
    "    def forward(self, x):\n",
    "        fc1 = self.fc1(x)\n",
    "        ac1 = self.relu(fc1)\n",
    "        fc2 = self.fc2(ac1)\n",
    "        ac2 = self.relu(fc2)\n",
    "        fc3 = self.fc3(ac2)\n",
    "        \n",
    "        return fc3"
   ]
  },
  {
   "cell_type": "code",
   "execution_count": 9,
   "id": "d9436a3f",
   "metadata": {},
   "outputs": [],
   "source": [
    "# Hyper Parameter 정의\n",
    "input_dim = X.shape[-1]\n",
    "output_idm = 1\n",
    "hidden_dim_1 = 32\n",
    "hidden_dim_2 = 16\n",
    "learning_rate = 0.001\n",
    "num_epochs = 500"
   ]
  },
  {
   "cell_type": "code",
   "execution_count": 10,
   "id": "e8988b8c",
   "metadata": {},
   "outputs": [],
   "source": [
    "# model 생성\n",
    "model = MLP_Model(input_size=input_dim, hidden_size_1=hidden_dim_1, hidden_size_2=hidden_dim_2, output_size=output_idm)"
   ]
  },
  {
   "cell_type": "code",
   "execution_count": 11,
   "id": "cf722882",
   "metadata": {},
   "outputs": [],
   "source": [
    "# 손실함수 생성\n",
    "criterion = torch.nn.MSELoss()\n",
    "\n",
    "# Optimizer 생성\n",
    "optimizer = torch.optim.SGD(params=model.parameters(), lr=learning_rate)"
   ]
  },
  {
   "cell_type": "markdown",
   "id": "5d473639",
   "metadata": {},
   "source": [
    "## Training"
   ]
  },
  {
   "cell_type": "code",
   "execution_count": 12,
   "id": "beaeaef8",
   "metadata": {},
   "outputs": [
    {
     "name": "stdout",
     "output_type": "stream",
     "text": [
      "epoch: [1] Loss_train: 581.54, Loss_test: 581.83\n",
      "epoch: [20] Loss_train: 25.89, Loss_test: 17.11\n",
      "epoch: [40] Loss_train: 11.29, Loss_test: 14.03\n",
      "epoch: [60] Loss_train: 10.89, Loss_test: 13.21\n",
      "epoch: [80] Loss_train: 7.73, Loss_test: 12.00\n",
      "epoch: [100] Loss_train: 13.29, Loss_test: 11.53\n",
      "epoch: [120] Loss_train: 16.52, Loss_test: 11.40\n",
      "epoch: [140] Loss_train: 7.16, Loss_test: 10.98\n",
      "epoch: [160] Loss_train: 7.44, Loss_test: 10.90\n",
      "epoch: [180] Loss_train: 8.69, Loss_test: 10.78\n",
      "epoch: [200] Loss_train: 8.67, Loss_test: 10.65\n",
      "epoch: [220] Loss_train: 8.25, Loss_test: 10.24\n",
      "epoch: [240] Loss_train: 6.60, Loss_test: 10.17\n",
      "epoch: [260] Loss_train: 6.49, Loss_test: 10.17\n",
      "epoch: [280] Loss_train: 8.78, Loss_test: 10.17\n",
      "epoch: [300] Loss_train: 9.53, Loss_test: 10.25\n",
      "epoch: [320] Loss_train: 4.94, Loss_test: 10.05\n",
      "epoch: [340] Loss_train: 6.10, Loss_test: 10.00\n",
      "epoch: [360] Loss_train: 5.54, Loss_test: 10.04\n",
      "epoch: [380] Loss_train: 5.36, Loss_test: 10.03\n",
      "epoch: [400] Loss_train: 6.28, Loss_test: 9.98\n",
      "epoch: [420] Loss_train: 8.08, Loss_test: 10.09\n",
      "epoch: [440] Loss_train: 9.31, Loss_test: 10.31\n",
      "epoch: [460] Loss_train: 7.97, Loss_test: 10.16\n",
      "epoch: [480] Loss_train: 3.72, Loss_test: 10.24\n",
      "epoch: [500] Loss_train: 3.49, Loss_test: 10.19\n"
     ]
    }
   ],
   "source": [
    "# Training the model\n",
    "train_loss = []\n",
    "test_loss = []\n",
    "\n",
    "for epoch in range(num_epochs):\n",
    "    # Batch 학습\n",
    "    for batch_idx, (X_batch, y_batch) in enumerate(dataloader):\n",
    "        model.train()\n",
    "        optimizer.zero_grad()\n",
    "        \n",
    "        y_train_pred = model(X_batch).reshape(-1)\n",
    "        loss_train = criterion(y_train_pred, y_batch)\n",
    "        \n",
    "        loss_train.backward()\n",
    "        optimizer.step()\n",
    "    \n",
    "    # Validation\n",
    "    model.eval()\n",
    "    \n",
    "    y_test_pred = model(X_test_tensor).data.reshape(-1)\n",
    "    loss_test = criterion(y_test_pred, y_test_tensor)\n",
    "    \n",
    "    # 한번의 epoch 마다 그때의 loss를 list에 append\n",
    "    train_loss.append(loss_train.item())\n",
    "    test_loss.append(loss_test.item())\n",
    "    \n",
    "    if epoch == 0:\n",
    "        print(f\"epoch: [{epoch+1}] Loss_train: {loss_train.item():.2f}, Loss_test: {loss_test.item():.2f}\")\n",
    "    if (epoch+1) % 20 == 0:\n",
    "        print(f\"epoch: [{epoch+1}] Loss_train: {loss_train.item():.2f}, Loss_test: {loss_test.item():.2f}\")"
   ]
  },
  {
   "cell_type": "code",
   "execution_count": 13,
   "id": "aee5dda5",
   "metadata": {},
   "outputs": [
    {
     "data": {
      "image/png": "[encoded data removed]",
      "text/plain": [
       "<Figure size 432x288 with 1 Axes>"
      ]
     },
     "metadata": {
      "needs_background": "light"
     },
     "output_type": "display_data"
    }
   ],
   "source": [
    "fig, ax = plt.subplots(figsize=(6, 4))\n",
    "\n",
    "ax.plot(train_loss, label='train')\n",
    "ax.plot(test_loss, label='test')\n",
    "\n",
    "ax.set_title('Model loss', fontsize=12)\n",
    "ax.set_xlabel('Epoch')\n",
    "ax.set_ylabel('Loss')\n",
    "ax.legend()\n",
    "\n",
    "plt.show()"
   ]
  }
 ],
 "metadata": {
  "kernelspec": {
   "display_name": "Python 3 (ipykernel)",
   "language": "python",
   "name": "python3"
  },
  "language_info": {
   "codemirror_mode": {
    "name": "ipython",
    "version": 3
   },
   "file_extension": ".py",
   "mimetype": "text/x-python",
   "name": "python",
   "nbconvert_exporter": "python",
   "pygments_lexer": "ipython3",
   "version": "3.8.5"
  }
 },
 "nbformat": 4,
 "nbformat_minor": 5
}
