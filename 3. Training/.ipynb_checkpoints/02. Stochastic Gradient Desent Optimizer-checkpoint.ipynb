{
 "cells": [
  {
   "cell_type": "code",
   "execution_count": 1,
   "id": "7f319814",
   "metadata": {},
   "outputs": [],
   "source": [
    "import numpy as np\n",
    "\n",
    "import torch\n",
    "import torch.nn.functional as F\n",
    "\n",
    "import torch.utils.data as data_utils\n",
    "from torch.utils.data import DataLoader\n",
    "\n",
    "import warnings\n",
    "warnings.filterwarnings('ignore')\n",
    "\n",
    "import matplotlib.pyplot as plt\n",
    "\n",
    "import random\n",
    "\n",
    "from mnist import MNIST"
   ]
  },
  {
   "cell_type": "code",
   "execution_count": 2,
   "id": "c322696d",
   "metadata": {},
   "outputs": [
    {
     "name": "stdout",
     "output_type": "stream",
     "text": [
      "cpu\n"
     ]
    }
   ],
   "source": [
    "# GPU 설정(GPU가 있으면 GPU 사용, 없으면 cpu 사용)\n",
    "device = 'cuda' if torch.cuda.is_available() else 'cpu'\n",
    "print(device)\n",
    "\n",
    "random.seed(777)\n",
    "torch.manual_seed(777)\n",
    "if device == 'cuda':\n",
    "    torch.cuda.manual_seed_all(777)"
   ]
  },
  {
   "cell_type": "markdown",
   "id": "2eafc8b7",
   "metadata": {},
   "source": [
    "## Data"
   ]
  },
  {
   "cell_type": "code",
   "execution_count": 3,
   "id": "88518ce2",
   "metadata": {},
   "outputs": [],
   "source": [
    "# load data\n",
    "mnist = MNIST('../../Deeplearning_dataset/MNIST/raw')\n",
    "x_train, y_train = mnist.load_training()\n",
    "x_test, y_test = mnist.load_testing()"
   ]
  },
  {
   "cell_type": "code",
   "execution_count": 4,
   "id": "eec70fb2",
   "metadata": {},
   "outputs": [],
   "source": [
    "# preprocessing\n",
    "x_train, y_train = np.array(x_train), np.array(y_train)\n",
    "x_test, y_test = np.array(x_test), np.array(y_test)"
   ]
  },
  {
   "cell_type": "code",
   "execution_count": 5,
   "id": "b8dc94ad",
   "metadata": {},
   "outputs": [
    {
     "data": {
      "text/plain": [
       "(60000, 784)"
      ]
     },
     "execution_count": 5,
     "metadata": {},
     "output_type": "execute_result"
    }
   ],
   "source": [
    "# train shape\n",
    "x_train.shape"
   ]
  },
  {
   "cell_type": "code",
   "execution_count": 6,
   "id": "99ce6305",
   "metadata": {},
   "outputs": [
    {
     "data": {
      "text/plain": [
       "(10000, 784)"
      ]
     },
     "execution_count": 6,
     "metadata": {},
     "output_type": "execute_result"
    }
   ],
   "source": [
    "# test.shape\n",
    "x_test.shape"
   ]
  },
  {
   "cell_type": "code",
   "execution_count": 7,
   "id": "d86ba0e0",
   "metadata": {},
   "outputs": [
    {
     "data": {
      "image/png": "[encoded data removed]",
      "text/plain": [
       "<Figure size 360x360 with 1 Axes>"
      ]
     },
     "metadata": {
      "needs_background": "light"
     },
     "output_type": "display_data"
    }
   ],
   "source": [
    "# data visualization\n",
    "data_idx = 12\n",
    "fig, ax = plt.subplots(figsize=(5, 5))\n",
    "\n",
    "ax.imshow(np.array(x_train[data_idx].reshape(28, 28)), cmap='gray')\n",
    "ax.set_title(f\"label = {y_train[data_idx]}\")\n",
    "\n",
    "plt.show()"
   ]
  },
  {
   "cell_type": "code",
   "execution_count": 8,
   "id": "8d1d0c0c",
   "metadata": {},
   "outputs": [
    {
     "name": "stdout",
     "output_type": "stream",
     "text": [
      "torch.Size([1000, 784])\n",
      "torch.Size([1000, 784])\n",
      "torch.Size([1000, 784])\n",
      "torch.Size([1000, 784])\n",
      "torch.Size([1000, 784])\n",
      "torch.Size([1000, 784])\n",
      "torch.Size([1000, 784])\n",
      "torch.Size([1000, 784])\n",
      "torch.Size([1000, 784])\n",
      "torch.Size([1000, 784])\n",
      "torch.Size([1000, 784])\n",
      "torch.Size([1000, 784])\n"
     ]
    }
   ],
   "source": [
    "# data를 tensor형태로 바꿔주기\n",
    "x_train_tensor, y_train_tensor = torch.FloatTensor(x_train), torch.FloatTensor(y_train)\n",
    "x_test_tensor, y_test_tensor = torch.FloatTensor(x_test), torch.FloatTensor(y_test)\n",
    "\n",
    "# Batch 형태로 만들기\n",
    "batch_size=1000\n",
    "train_data = data_utils.TensorDataset(x_train_tensor, y_train_tensor)\n",
    "trainloader = DataLoader(train_data, batch_size=batch_size, shuffle=True, drop_last=True)\n",
    "\n",
    "# Batch data 확인\n",
    "for batch_idx, (x_batch, y_batch) in enumerate(trainloader):\n",
    "    print(x_batch.shape)\n",
    "    if batch_idx > 10:\n",
    "        break"
   ]
  },
  {
   "cell_type": "markdown",
   "id": "2572f68e",
   "metadata": {},
   "source": [
    "## Build Model using Sequential Method"
   ]
  },
  {
   "cell_type": "code",
   "execution_count": 9,
   "id": "c8330709",
   "metadata": {},
   "outputs": [],
   "source": [
    "# layer 설정\n",
    "linear1 = torch.nn.Linear(784, 256)\n",
    "linear2 = torch.nn.Linear(256, 64)\n",
    "linear3 = torch.nn.Linear(64, 10)\n",
    "\n",
    "relu = torch.nn.ReLU()"
   ]
  },
  {
   "cell_type": "code",
   "execution_count": 10,
   "id": "f8c68296",
   "metadata": {},
   "outputs": [],
   "source": [
    "# Sequential을 이용해 model 정의\n",
    "model = torch.nn.Sequential(linear1, relu, linear2, relu, linear3)"
   ]
  },
  {
   "cell_type": "code",
   "execution_count": 11,
   "id": "6bcb3d0d",
   "metadata": {},
   "outputs": [],
   "source": [
    "model = model.to(device) # device 설정(GPU가 있다면, model의 계산해야하는 파라미터들이 GPU 메모리에 올라간다.)"
   ]
  },
  {
   "cell_type": "code",
   "execution_count": 12,
   "id": "d099c48e",
   "metadata": {},
   "outputs": [
    {
     "data": {
      "text/plain": [
       "Sequential(\n",
       "  (0): Linear(in_features=784, out_features=256, bias=True)\n",
       "  (1): ReLU()\n",
       "  (2): Linear(in_features=256, out_features=64, bias=True)\n",
       "  (3): ReLU()\n",
       "  (4): Linear(in_features=64, out_features=10, bias=True)\n",
       ")"
      ]
     },
     "execution_count": 12,
     "metadata": {},
     "output_type": "execute_result"
    }
   ],
   "source": [
    "model"
   ]
  },
  {
   "cell_type": "code",
   "execution_count": 13,
   "id": "31f1c190",
   "metadata": {},
   "outputs": [],
   "source": [
    "# parameters\n",
    "num_epoch = 20\n",
    "learning_rate = 0.01\n",
    "weight_decay = 1e-5"
   ]
  },
  {
   "cell_type": "code",
   "execution_count": 14,
   "id": "5cb128cf",
   "metadata": {},
   "outputs": [],
   "source": [
    "# 손실함수 정의\n",
    "loss_function = torch.nn.CrossEntropyLoss() # CrossEntropyLoss에 softmax 연산이 포함되어 있으므로 모델 정의시 따로 설정해주지 않았음.\n",
    "# Optimizer 정의\n",
    "optimizer = torch.optim.SGD(model.parameters(), lr=learning_rate, weight_decay=weight_decay)"
   ]
  },
  {
   "cell_type": "markdown",
   "id": "79f98e9b",
   "metadata": {},
   "source": [
    "## Training"
   ]
  },
  {
   "cell_type": "code",
   "execution_count": 15,
   "id": "ed1cd39a",
   "metadata": {},
   "outputs": [
    {
     "name": "stdout",
     "output_type": "stream",
     "text": [
      "10batch loss value: 14.972\n",
      "20batch loss value: 1.686\n",
      "30batch loss value: 1.452\n",
      "40batch loss value: 1.402\n",
      "50batch loss value: 1.020\n",
      "60batch loss value: 0.902\n",
      "Epoch[1]의 평균 loss: 13.395\n",
      "10batch loss value: 0.834\n",
      "20batch loss value: 0.758\n",
      "30batch loss value: 0.926\n",
      "40batch loss value: 0.639\n",
      "50batch loss value: 0.474\n",
      "60batch loss value: 0.555\n",
      "Epoch[2]의 평균 loss: 0.775\n",
      "10batch loss value: 0.490\n",
      "20batch loss value: 0.469\n",
      "30batch loss value: 0.356\n",
      "40batch loss value: 0.481\n",
      "50batch loss value: 0.355\n",
      "60batch loss value: 0.377\n",
      "Epoch[3]의 평균 loss: 0.440\n",
      "10batch loss value: 0.316\n",
      "20batch loss value: 0.327\n",
      "30batch loss value: 0.370\n",
      "40batch loss value: 0.308\n",
      "50batch loss value: 0.333\n",
      "60batch loss value: 0.326\n",
      "Epoch[4]의 평균 loss: 0.323\n",
      "10batch loss value: 0.265\n",
      "20batch loss value: 0.306\n",
      "30batch loss value: 0.328\n",
      "40batch loss value: 0.301\n",
      "50batch loss value: 0.292\n",
      "60batch loss value: 0.245\n",
      "Epoch[5]의 평균 loss: 0.283\n",
      "10batch loss value: 0.257\n",
      "20batch loss value: 0.287\n",
      "30batch loss value: 0.216\n",
      "40batch loss value: 0.261\n",
      "50batch loss value: 0.226\n",
      "60batch loss value: 0.231\n",
      "Epoch[6]의 평균 loss: 0.249\n",
      "10batch loss value: 0.248\n",
      "20batch loss value: 0.257\n",
      "30batch loss value: 0.208\n",
      "40batch loss value: 0.224\n",
      "50batch loss value: 0.206\n",
      "60batch loss value: 0.239\n",
      "Epoch[7]의 평균 loss: 0.229\n",
      "10batch loss value: 0.191\n",
      "20batch loss value: 0.228\n",
      "30batch loss value: 0.202\n",
      "40batch loss value: 0.211\n",
      "50batch loss value: 0.239\n",
      "60batch loss value: 0.204\n",
      "Epoch[8]의 평균 loss: 0.209\n",
      "10batch loss value: 0.181\n",
      "20batch loss value: 0.210\n",
      "30batch loss value: 0.202\n",
      "40batch loss value: 0.186\n",
      "50batch loss value: 0.215\n",
      "60batch loss value: 0.205\n",
      "Epoch[9]의 평균 loss: 0.192\n",
      "10batch loss value: 0.208\n",
      "20batch loss value: 0.193\n",
      "30batch loss value: 0.179\n",
      "40batch loss value: 0.210\n",
      "50batch loss value: 0.236\n",
      "60batch loss value: 0.193\n",
      "Epoch[10]의 평균 loss: 0.180\n",
      "10batch loss value: 0.154\n",
      "20batch loss value: 0.183\n",
      "30batch loss value: 0.164\n",
      "40batch loss value: 0.195\n",
      "50batch loss value: 0.151\n",
      "60batch loss value: 0.174\n",
      "Epoch[11]의 평균 loss: 0.170\n",
      "10batch loss value: 0.136\n",
      "20batch loss value: 0.158\n",
      "30batch loss value: 0.150\n",
      "40batch loss value: 0.136\n",
      "50batch loss value: 0.188\n",
      "60batch loss value: 0.175\n",
      "Epoch[12]의 평균 loss: 0.163\n",
      "10batch loss value: 0.133\n",
      "20batch loss value: 0.173\n",
      "30batch loss value: 0.148\n",
      "40batch loss value: 0.174\n",
      "50batch loss value: 0.148\n",
      "60batch loss value: 0.181\n",
      "Epoch[13]의 평균 loss: 0.154\n",
      "10batch loss value: 0.142\n",
      "20batch loss value: 0.137\n",
      "30batch loss value: 0.142\n",
      "40batch loss value: 0.177\n",
      "50batch loss value: 0.143\n",
      "60batch loss value: 0.173\n",
      "Epoch[14]의 평균 loss: 0.148\n",
      "10batch loss value: 0.151\n",
      "20batch loss value: 0.112\n",
      "30batch loss value: 0.131\n",
      "40batch loss value: 0.162\n",
      "50batch loss value: 0.152\n",
      "60batch loss value: 0.143\n",
      "Epoch[15]의 평균 loss: 0.141\n",
      "10batch loss value: 0.127\n",
      "20batch loss value: 0.134\n",
      "30batch loss value: 0.124\n",
      "40batch loss value: 0.127\n",
      "50batch loss value: 0.130\n",
      "60batch loss value: 0.118\n",
      "Epoch[16]의 평균 loss: 0.136\n",
      "10batch loss value: 0.146\n",
      "20batch loss value: 0.150\n",
      "30batch loss value: 0.130\n",
      "40batch loss value: 0.171\n",
      "50batch loss value: 0.151\n",
      "60batch loss value: 0.131\n",
      "Epoch[17]의 평균 loss: 0.130\n",
      "10batch loss value: 0.114\n",
      "20batch loss value: 0.146\n",
      "30batch loss value: 0.126\n",
      "40batch loss value: 0.133\n",
      "50batch loss value: 0.135\n",
      "60batch loss value: 0.171\n",
      "Epoch[18]의 평균 loss: 0.126\n",
      "10batch loss value: 0.119\n",
      "20batch loss value: 0.121\n",
      "30batch loss value: 0.150\n",
      "40batch loss value: 0.093\n",
      "50batch loss value: 0.098\n",
      "60batch loss value: 0.120\n",
      "Epoch[19]의 평균 loss: 0.120\n",
      "10batch loss value: 0.134\n",
      "20batch loss value: 0.119\n",
      "30batch loss value: 0.127\n",
      "40batch loss value: 0.153\n",
      "50batch loss value: 0.145\n",
      "60batch loss value: 0.110\n",
      "Epoch[20]의 평균 loss: 0.116\n"
     ]
    }
   ],
   "source": [
    "num_of_mini_batch = len(trainloader)\n",
    "\n",
    "train_loss_list = []\n",
    "for epoch in range(num_epoch):\n",
    "    average_cost = 0\n",
    "    # Batch 학습\n",
    "    for batch_idx, (x_batch, y_batch) in enumerate(trainloader):\n",
    "        optimizer.zero_grad() # Gradient 초기화\n",
    "        \n",
    "        input_image = x_batch.to(device)\n",
    "        label = y_batch.to(device)\n",
    "        y_label_long = torch.tensor(label, dtype=torch.long) # Loss function에 넣어서 계산하기 위해 y_data의 dtype를 바꿔준다.\n",
    "        y_label_long = y_label_long.to(device)\n",
    "        \n",
    "        train_prediction = model(input_image)\n",
    "        loss = loss_function(train_prediction, y_label_long)\n",
    "        if (batch_idx+1) % 10 == 0:\n",
    "            print(f\"{batch_idx+1}batch loss value: {loss.item():.3f}\")  \n",
    "        \n",
    "        loss.backward() # Back Propagation\n",
    "        optimizer.step() # update weight\n",
    "        \n",
    "        average_cost += loss.item()/num_of_mini_batch\n",
    "        train_loss_list.append(loss.item()) # mini batch 하나의 평균 loss\n",
    "    \n",
    "    print(f\"Epoch[{epoch+1}]의 평균 loss: {average_cost:.3f}\")"
   ]
  },
  {
   "cell_type": "code",
   "execution_count": 16,
   "id": "11c673b2",
   "metadata": {},
   "outputs": [
    {
     "data": {
      "text/plain": [
       "13.39509274661541"
      ]
     },
     "execution_count": 16,
     "metadata": {},
     "output_type": "execute_result"
    }
   ],
   "source": [
    "# Epoch 1의 평균 loss\n",
    "np.array(train_loss_list[:60]).mean()"
   ]
  },
  {
   "cell_type": "markdown",
   "id": "898fde3e",
   "metadata": {},
   "source": [
    "## Visualization"
   ]
  },
  {
   "cell_type": "code",
   "execution_count": 17,
   "id": "1691ab53",
   "metadata": {},
   "outputs": [
    {
     "data": {
      "image/png": "[encoded data removed]",
      "text/plain": [
       "<Figure size 1440x432 with 1 Axes>"
      ]
     },
     "metadata": {
      "needs_background": "light"
     },
     "output_type": "display_data"
    }
   ],
   "source": [
    "major_xticks = range(0, len(train_loss_list)+1, 60)\n",
    "minor_xticks = range(20, len(train_loss_list)+1, 20)\n",
    "\n",
    "fig, ax = plt.subplots(figsize=(20, 6))\n",
    "\n",
    "ax.set_xlim([-1, 1200])\n",
    "\n",
    "ax.set_xlabel('Batch', fontsize=15)\n",
    "ax.set_ylabel('Loss', fontsize=15)\n",
    "\n",
    "ax.set_xticks(major_xticks)\n",
    "ax.set_xticks(minor_xticks, minor=True)\n",
    "\n",
    "ax.plot(range(16, 16+len(train_loss_list[15:])), train_loss_list[15:]) # 처음 부터 그리면 초반 5개 정도는 loss 값이 급격하게 낮아지므로 변화량을 제대로 확인하기 어렵다.\n",
    "\n",
    "ax.grid(axis='x')\n",
    "\n",
    "for line_idx in range(0, len(train_loss_list), 60):\n",
    "    ax.text((line_idx*2 + 60)/2, ax.get_ylim()[1] - ax.get_ylim()[1]/100, \n",
    "           s=str(int(line_idx/60)+1) + ' Epoch',\n",
    "           va='top', ha='center')\n",
    "\n",
    "plt.show()"
   ]
  },
  {
   "cell_type": "code",
   "execution_count": 18,
   "id": "81047e72",
   "metadata": {},
   "outputs": [],
   "source": [
    "# 다른 실험파일에서 plot 비교를 위해 pickle 형태로 저장\n",
    "import pickle\n",
    "\n",
    "with open('../../pickle_folder/SGD.pickle', 'wb') as f: # wb: 바이트 형식으로 저장\n",
    "    pickle.dump(train_loss_list, f)"
   ]
  },
  {
   "cell_type": "markdown",
   "id": "e0988955",
   "metadata": {},
   "source": [
    "## Test"
   ]
  },
  {
   "cell_type": "code",
   "execution_count": 19,
   "id": "176ee461",
   "metadata": {},
   "outputs": [],
   "source": [
    "test_data = data_utils.TensorDataset(x_test_tensor, y_test_tensor)\n",
    "testloader = DataLoader(test_data, batch_size=5000, shuffle=False)"
   ]
  },
  {
   "cell_type": "code",
   "execution_count": 34,
   "id": "e7541d9c",
   "metadata": {},
   "outputs": [
    {
     "name": "stdout",
     "output_type": "stream",
     "text": [
      "SGD를 이용한 모델의 정확도: 95.38%\n"
     ]
    }
   ],
   "source": [
    "with torch.no_grad():\n",
    "    num_total_data = 0\n",
    "    correct = 0\n",
    "    for batch_idx, (x_test_batch, y_test_batch) in enumerate(testloader):\n",
    "        test_images = x_test_batch.to(device)\n",
    "        test_labels = y_test_batch.to(device)\n",
    "        test_labels_long = torch.tensor(test_labels, dtype=torch.long)\n",
    "        prediction_softmax = F.softmax(model(test_images), dim=1)\n",
    "        prediction_class = torch.argmax(prediction_softmax, dim=1)\n",
    "        \n",
    "        correct += (prediction_class == test_labels_long).sum().item()\n",
    "        num_total_data += len(test_images)\n",
    "\n",
    "print(f\"SGD를 이용한 모델의 정확도: {correct/num_total_data*100}%\")"
   ]
  }
 ],
 "metadata": {
  "kernelspec": {
   "display_name": "Python 3 (ipykernel)",
   "language": "python",
   "name": "python3"
  },
  "language_info": {
   "codemirror_mode": {
    "name": "ipython",
    "version": 3
   },
   "file_extension": ".py",
   "mimetype": "text/x-python",
   "name": "python",
   "nbconvert_exporter": "python",
   "pygments_lexer": "ipython3",
   "version": "3.8.5"
  }
 },
 "nbformat": 4,
 "nbformat_minor": 5
}
