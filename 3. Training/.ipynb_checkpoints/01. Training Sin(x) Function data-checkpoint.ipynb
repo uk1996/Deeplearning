{
 "cells": [
  {
   "cell_type": "code",
   "execution_count": 1,
   "id": "e045ac85",
   "metadata": {},
   "outputs": [],
   "source": [
    "import numpy as np\n",
    "\n",
    "import torch\n",
    "import torch.nn.functional as F\n",
    "\n",
    "import matplotlib.pyplot as plt\n",
    "\n",
    "import warnings\n",
    "warnings.filterwarnings('ignore')"
   ]
  },
  {
   "cell_type": "markdown",
   "id": "29980f96",
   "metadata": {},
   "source": [
    "## Data"
   ]
  },
  {
   "cell_type": "code",
   "execution_count": 2,
   "id": "6699f825",
   "metadata": {},
   "outputs": [
    {
     "data": {
      "image/png": "[encoded data removed]",
      "text/plain": [
       "<Figure size 360x216 with 1 Axes>"
      ]
     },
     "metadata": {
      "needs_background": "light"
     },
     "output_type": "display_data"
    }
   ],
   "source": [
    "# True data 생성\n",
    "# -3.14 ~ 3.14 사이의 200개의 난수 생성(train:140, test:60)\n",
    "N = 200\n",
    "\n",
    "x = np.linspace(-np.pi, np.pi, N).reshape(-1, 1)\n",
    "\n",
    "# sin(x)\n",
    "sin = np.sin(x)\n",
    "y = sin + 0.1*np.random.randn(N, 1) # sin 그래프에 Gaussian noise를 추가\n",
    "\n",
    "# sin 그래프\n",
    "fig, ax = plt.subplots(figsize=(5, 3))\n",
    "\n",
    "ax.plot(x, sin, color='red')\n",
    "\n",
    "ax.scatter(x, y)\n",
    "\n",
    "plt.show()"
   ]
  },
  {
   "cell_type": "code",
   "execution_count": 3,
   "id": "cc9be388",
   "metadata": {},
   "outputs": [
    {
     "name": "stdout",
     "output_type": "stream",
     "text": [
      "shape of PHI: (200, 5)\n",
      "데이터 개수: 200\n",
      "feature 개수: 5\n"
     ]
    }
   ],
   "source": [
    "# feature 생성\n",
    "n_feature = 5\n",
    "\n",
    "PHI = np.ones(shape=(N, 1))\n",
    "\n",
    "for i in range(1, n_feature):\n",
    "    PHI = np.concatenate([PHI, np.power(x, i)], axis=1)\n",
    "    \n",
    "print(f\"shape of PHI: {PHI.shape}\")\n",
    "print(f\"데이터 개수: {PHI.shape[0]}\")\n",
    "print(f\"feature 개수: {PHI.shape[1]}\")"
   ]
  },
  {
   "cell_type": "code",
   "execution_count": 4,
   "id": "7d43a3cc",
   "metadata": {},
   "outputs": [],
   "source": [
    "# shuffle data\n",
    "np.random.seed(2022)\n",
    "\n",
    "idx = np.random.permutation(N)\n",
    "shuffle_x = x[idx]\n",
    "shuffle_PHI = PHI[idx]\n",
    "shuffle_y = y[idx]\n",
    "\n",
    "num_train = 140\n",
    "\n",
    "# train data\n",
    "x_train = shuffle_x[:num_train]\n",
    "PHI_train = shuffle_PHI[:num_train]\n",
    "y_train = shuffle_y[:num_train]\n",
    "\n",
    "# test data\n",
    "x_test = shuffle_x[num_train:]\n",
    "PHI_test = shuffle_PHI[num_train:]\n",
    "y_test = shuffle_y[num_train:]"
   ]
  },
  {
   "cell_type": "code",
   "execution_count": 5,
   "id": "f502bd1d",
   "metadata": {},
   "outputs": [
    {
     "data": {
      "image/png": "[encoded data removed]",
      "text/plain": [
       "<Figure size 360x432 with 2 Axes>"
      ]
     },
     "metadata": {
      "needs_background": "light"
     },
     "output_type": "display_data"
    }
   ],
   "source": [
    "# train, test 그래프\n",
    "fig, axes = plt.subplots(2, 1, figsize=(5, 6))\n",
    "\n",
    "axes[0].scatter(x_train, y_train)\n",
    "axes[1].scatter(x_test, y_test, color='green')\n",
    "\n",
    "plt.show()"
   ]
  },
  {
   "cell_type": "code",
   "execution_count": 6,
   "id": "cf9ab3e1",
   "metadata": {},
   "outputs": [],
   "source": [
    "# make data to tensor\n",
    "ts_whole_x = torch.tensor(PHI, dtype=torch.float)\n",
    "\n",
    "ts_train_x = torch.tensor(PHI_train, dtype=torch.float)\n",
    "ts_train_y = torch.tensor(y_train, dtype=torch.float)\n",
    "\n",
    "ts_test_x = torch.tensor(PHI_test, dtype=torch.float)\n",
    "ts_test_y = torch.tensor(y_test, dtype=torch.float)"
   ]
  },
  {
   "cell_type": "markdown",
   "id": "8ef6d19b",
   "metadata": {},
   "source": [
    "## Model"
   ]
  },
  {
   "cell_type": "code",
   "execution_count": 7,
   "id": "ae21b64a",
   "metadata": {},
   "outputs": [],
   "source": [
    "class ANN(torch.nn.Module):\n",
    "    def __init__(self, input_size, output_size):\n",
    "        super(ANN, self).__init__()\n",
    "        self.input_size = input_size\n",
    "        self.output_size = output_size\n",
    "        self.fc1 = torch.nn.Linear(self.input_size, 64)\n",
    "        self.fc2 = torch.nn.Linear(64, 64)    # hidden layer1\n",
    "        self.fc3 = torch.nn.Linear(64, 64)    # hidden layer2\n",
    "        self.fc4 = torch.nn.Linear(64, 64)    # hidden layer3\n",
    "        self.fc5 = torch.nn.Linear(64, 64)    # hidden layer4\n",
    "        self.fc6 = torch.nn.Linear(64, 64)    # hidden layer5\n",
    "        self.fc7 = torch.nn.Linear(64, 16)    # hidden layer6\n",
    "        self.fc8 = torch.nn.Linear(16, self.output_size)\n",
    "        \n",
    "    def forward(self, x):\n",
    "        x = torch.tanh(self.fc1(x))\n",
    "        x = torch.tanh(self.fc2(x))\n",
    "        x = torch.tanh(self.fc3(x))\n",
    "        x = torch.tanh(self.fc4(x))\n",
    "        x = torch.tanh(self.fc5(x))\n",
    "        x = torch.tanh(self.fc6(x))\n",
    "        x = torch.tanh(self.fc7(x))\n",
    "        x = torch.tanh(self.fc8(x))\n",
    "        return x\n",
    "\n",
    "input_dim = 5\n",
    "output_dim = 1\n",
    "model = ANN(input_dim, output_dim)"
   ]
  },
  {
   "cell_type": "markdown",
   "id": "13549943",
   "metadata": {},
   "source": [
    "## SGD"
   ]
  },
  {
   "cell_type": "code",
   "execution_count": 8,
   "id": "75692c2f",
   "metadata": {},
   "outputs": [],
   "source": [
    "# 손실함수\n",
    "loss_function = torch.nn.MSELoss()\n",
    "# Optimizer = SGD\n",
    "optimizer = torch.optim.SGD(model.parameters(), lr=0.1)"
   ]
  },
  {
   "cell_type": "markdown",
   "id": "d9a81338",
   "metadata": {},
   "source": [
    "### Training"
   ]
  },
  {
   "cell_type": "code",
   "execution_count": 9,
   "id": "6f6c23f9",
   "metadata": {},
   "outputs": [
    {
     "name": "stdout",
     "output_type": "stream",
     "text": [
      "Epoch[20], train_loss: 0.08063694834709167, test_loss: 0.06038409471511841\n",
      "Epoch[40], train_loss: 0.019233712926506996, test_loss: 0.01872503012418747\n",
      "Epoch[60], train_loss: 0.013757489621639252, test_loss: 0.016970859840512276\n",
      "Epoch[80], train_loss: 0.012748598121106625, test_loss: 0.01568415015935898\n",
      "Epoch[100], train_loss: 0.01571817137300968, test_loss: 0.018603293225169182\n",
      "Epoch[120], train_loss: 0.01924985647201538, test_loss: 0.023795416578650475\n",
      "Epoch[140], train_loss: 0.016524100676178932, test_loss: 0.020376505330204964\n",
      "Epoch[160], train_loss: 0.016394024714827538, test_loss: 0.020007772371172905\n",
      "Epoch[180], train_loss: 0.01632537506520748, test_loss: 0.01986142247915268\n",
      "Epoch[200], train_loss: 0.01610315777361393, test_loss: 0.01948138140141964\n",
      "Epoch[220], train_loss: 0.016022535040974617, test_loss: 0.019169913604855537\n",
      "Epoch[240], train_loss: 0.01587751880288124, test_loss: 0.018950223922729492\n",
      "Epoch[260], train_loss: 0.015642281621694565, test_loss: 0.018692145124077797\n",
      "Epoch[280], train_loss: 0.01539202593266964, test_loss: 0.018417688086628914\n",
      "Epoch[300], train_loss: 0.015202992595732212, test_loss: 0.018216842785477638\n",
      "Epoch[320], train_loss: 0.015386507846415043, test_loss: 0.01838761381804943\n",
      "Epoch[340], train_loss: 0.015035280026495457, test_loss: 0.01796196959912777\n",
      "Epoch[360], train_loss: 0.014877731911838055, test_loss: 0.01776616834104061\n",
      "Epoch[380], train_loss: 0.014728453941643238, test_loss: 0.01759236864745617\n",
      "Epoch[400], train_loss: 0.014550144784152508, test_loss: 0.017375348135828972\n",
      "Epoch[420], train_loss: 0.014422371052205563, test_loss: 0.01720474287867546\n",
      "Epoch[440], train_loss: 0.014349579811096191, test_loss: 0.017094390466809273\n",
      "Epoch[460], train_loss: 0.014251588843762875, test_loss: 0.016960477456450462\n",
      "Epoch[480], train_loss: 0.014149656519293785, test_loss: 0.016825510188937187\n",
      "Epoch[500], train_loss: 0.014051794074475765, test_loss: 0.016696682199835777\n"
     ]
    }
   ],
   "source": [
    "train_loss_list = []\n",
    "test_loss_list = []\n",
    "num_epoch = 500\n",
    "\n",
    "for epoch in range(num_epoch):\n",
    "    model.train()\n",
    "    optimizer.zero_grad()\n",
    "    \n",
    "    prediction = model(ts_train_x)\n",
    "    loss = loss_function(prediction, ts_train_y)\n",
    "    \n",
    "    loss.backward()\n",
    "    optimizer.step()\n",
    "    train_loss_list.append(loss.item())\n",
    "    \n",
    "    # Validation\n",
    "    with torch.no_grad():\n",
    "        test_prediction = model(ts_test_x)\n",
    "        test_loss = loss_function(test_prediction, ts_test_y)\n",
    "        test_loss_list.append(test_loss)\n",
    "        \n",
    "    if (epoch+1) % 20 == 0:\n",
    "        print(f\"Epoch[{epoch+1}], train_loss: {train_loss_list[-1]}, test_loss: {test_loss_list[-1]}\")"
   ]
  },
  {
   "cell_type": "markdown",
   "id": "eaf8290c",
   "metadata": {},
   "source": [
    "### Visualization"
   ]
  },
  {
   "cell_type": "code",
   "execution_count": 10,
   "id": "08ad0221",
   "metadata": {},
   "outputs": [
    {
     "data": {
      "image/png": "[encoded data removed]",
      "text/plain": [
       "<Figure size 360x288 with 1 Axes>"
      ]
     },
     "metadata": {
      "needs_background": "light"
     },
     "output_type": "display_data"
    }
   ],
   "source": [
    "# Loss값 확인\n",
    "fig, ax = plt.subplots(figsize=(5, 4))\n",
    "\n",
    "ax.plot(train_loss_list, label='train')\n",
    "ax.plot(test_loss_list, label='test')\n",
    "ax.set_xlabel('Epoch')\n",
    "ax.set_ylabel('Loss')\n",
    "\n",
    "ax.legend()\n",
    "\n",
    "plt.show()"
   ]
  },
  {
   "cell_type": "code",
   "execution_count": 11,
   "id": "3d4d1780",
   "metadata": {},
   "outputs": [
    {
     "data": {
      "image/png": "[encoded data removed]",
      "text/plain": [
       "<Figure size 360x288 with 1 Axes>"
      ]
     },
     "metadata": {
      "needs_background": "light"
     },
     "output_type": "display_data"
    }
   ],
   "source": [
    "# Test data 확인\n",
    "fig, ax = plt.subplots(figsize=(5, 4))\n",
    "\n",
    "ax.scatter(x_test, test_prediction, label='pred')\n",
    "ax.scatter(x_test, y_test, label='target')\n",
    "\n",
    "ax.legend()\n",
    "\n",
    "plt.show()"
   ]
  },
  {
   "cell_type": "markdown",
   "id": "6dd16970",
   "metadata": {},
   "source": [
    "## Adam"
   ]
  },
  {
   "cell_type": "code",
   "execution_count": 12,
   "id": "6a7bf600",
   "metadata": {},
   "outputs": [],
   "source": [
    "model = ANN(input_dim, output_dim)\n",
    "\n",
    "# 손실함수\n",
    "loss_function = torch.nn.MSELoss()\n",
    "# Optimizer = Adam\n",
    "optimizer = torch.optim.Adam(model.parameters(), lr=0.001)"
   ]
  },
  {
   "cell_type": "markdown",
   "id": "0478a623",
   "metadata": {},
   "source": [
    "### Training"
   ]
  },
  {
   "cell_type": "code",
   "execution_count": 13,
   "id": "ed77f5bd",
   "metadata": {},
   "outputs": [
    {
     "name": "stdout",
     "output_type": "stream",
     "text": [
      "Epoch[20], train_loss: 0.07023948431015015, test_loss: 0.054595015943050385\n",
      "Epoch[40], train_loss: 0.030063161626458168, test_loss: 0.031064650043845177\n",
      "Epoch[60], train_loss: 0.014070456847548485, test_loss: 0.017136134207248688\n",
      "Epoch[80], train_loss: 0.012141752988100052, test_loss: 0.015556496568024158\n",
      "Epoch[100], train_loss: 0.011501036584377289, test_loss: 0.014162999577820301\n",
      "Epoch[120], train_loss: 0.01100850012153387, test_loss: 0.013593757525086403\n",
      "Epoch[140], train_loss: 0.010758821852505207, test_loss: 0.013145318254828453\n",
      "Epoch[160], train_loss: 0.010617162100970745, test_loss: 0.012814857997000217\n",
      "Epoch[180], train_loss: 0.010506520047783852, test_loss: 0.0125597408041358\n",
      "Epoch[200], train_loss: 0.010407465510070324, test_loss: 0.012318537570536137\n",
      "Epoch[220], train_loss: 0.010314226150512695, test_loss: 0.01209293957799673\n",
      "Epoch[240], train_loss: 0.010224669240415096, test_loss: 0.011875583790242672\n",
      "Epoch[260], train_loss: 0.010137970559298992, test_loss: 0.011662973091006279\n",
      "Epoch[280], train_loss: 0.010053692385554314, test_loss: 0.011454831808805466\n",
      "Epoch[300], train_loss: 0.00997148733586073, test_loss: 0.011252054944634438\n",
      "Epoch[320], train_loss: 0.009891316294670105, test_loss: 0.011052696034312248\n",
      "Epoch[340], train_loss: 0.009813335724174976, test_loss: 0.010851076804101467\n",
      "Epoch[360], train_loss: 0.009737478569149971, test_loss: 0.010648385621607304\n",
      "Epoch[380], train_loss: 0.009663654491305351, test_loss: 0.010443329811096191\n",
      "Epoch[400], train_loss: 0.009591980837285519, test_loss: 0.010228513740003109\n",
      "Epoch[420], train_loss: 0.00952460803091526, test_loss: 0.01001437846571207\n",
      "Epoch[440], train_loss: 0.009462079033255577, test_loss: 0.009829467162489891\n",
      "Epoch[460], train_loss: 0.011053808964788914, test_loss: 0.009555394761264324\n",
      "Epoch[480], train_loss: 0.009535961784422398, test_loss: 0.009506708942353725\n",
      "Epoch[500], train_loss: 0.00942577887326479, test_loss: 0.009723308496177197\n"
     ]
    }
   ],
   "source": [
    "train_loss_list = []\n",
    "test_loss_list = []\n",
    "num_epoch = 500\n",
    "\n",
    "for epoch in range(num_epoch):\n",
    "    model.train()\n",
    "    optimizer.zero_grad()\n",
    "    \n",
    "    prediction = model(ts_train_x)\n",
    "    loss = loss_function(prediction, ts_train_y)\n",
    "    \n",
    "    loss.backward()\n",
    "    optimizer.step()\n",
    "    train_loss_list.append(loss.item())\n",
    "    \n",
    "    # Validation\n",
    "    with torch.no_grad():\n",
    "        test_prediction = model(ts_test_x)\n",
    "        test_loss = loss_function(test_prediction, ts_test_y)\n",
    "        test_loss_list.append(test_loss)\n",
    "        \n",
    "    if (epoch+1) % 20 == 0:\n",
    "        print(f\"Epoch[{epoch+1}], train_loss: {train_loss_list[-1]}, test_loss: {test_loss_list[-1]}\")"
   ]
  },
  {
   "cell_type": "markdown",
   "id": "8cc7f097",
   "metadata": {},
   "source": [
    "### Visualization"
   ]
  },
  {
   "cell_type": "code",
   "execution_count": 14,
   "id": "7c122db8",
   "metadata": {},
   "outputs": [
    {
     "data": {
      "image/png": "[encoded data removed]",
      "text/plain": [
       "<Figure size 360x288 with 1 Axes>"
      ]
     },
     "metadata": {
      "needs_background": "light"
     },
     "output_type": "display_data"
    }
   ],
   "source": [
    "# Loss값 확인\n",
    "fig, ax = plt.subplots(figsize=(5, 4))\n",
    "\n",
    "ax.plot(train_loss_list, label='train')\n",
    "ax.plot(test_loss_list, label='test')\n",
    "ax.set_xlabel('Epoch')\n",
    "ax.set_ylabel('Loss')\n",
    "\n",
    "ax.legend()\n",
    "\n",
    "plt.show()"
   ]
  },
  {
   "cell_type": "code",
   "execution_count": 15,
   "id": "2dd16322",
   "metadata": {},
   "outputs": [
    {
     "data": {
      "image/png": "[encoded data removed]",
      "text/plain": [
       "<Figure size 360x288 with 1 Axes>"
      ]
     },
     "metadata": {
      "needs_background": "light"
     },
     "output_type": "display_data"
    }
   ],
   "source": [
    "# Test data 확인\n",
    "fig, ax = plt.subplots(figsize=(5, 4))\n",
    "\n",
    "ax.scatter(x_test, test_prediction, label='pred')\n",
    "ax.scatter(x_test, y_test, label='target')\n",
    "\n",
    "ax.legend()\n",
    "\n",
    "plt.show()"
   ]
  }
 ],
 "metadata": {
  "kernelspec": {
   "display_name": "Python 3 (ipykernel)",
   "language": "python",
   "name": "python3"
  },
  "language_info": {
   "codemirror_mode": {
    "name": "ipython",
    "version": 3
   },
   "file_extension": ".py",
   "mimetype": "text/x-python",
   "name": "python",
   "nbconvert_exporter": "python",
   "pygments_lexer": "ipython3",
   "version": "3.8.5"
  }
 },
 "nbformat": 4,
 "nbformat_minor": 5
}
