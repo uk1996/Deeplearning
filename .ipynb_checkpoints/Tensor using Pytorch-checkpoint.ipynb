{
 "cells": [
  {
   "cell_type": "code",
   "execution_count": 22,
   "id": "e02068b0",
   "metadata": {},
   "outputs": [],
   "source": [
    "import torch\n",
    "import numpy as np"
   ]
  },
  {
   "cell_type": "markdown",
   "id": "4f47b7ea",
   "metadata": {},
   "source": [
    "## Tensor 생성"
   ]
  },
  {
   "cell_type": "code",
   "execution_count": 9,
   "id": "51455747",
   "metadata": {},
   "outputs": [
    {
     "name": "stdout",
     "output_type": "stream",
     "text": [
      "tensor([0., 1., 2., 3., 4., 5., 6.])\n",
      "1\n",
      "torch.Size([7])\n",
      "torch.Size([7])\n"
     ]
    }
   ],
   "source": [
    "t = torch.FloatTensor([0, 1, 2, 3, 4, 5, 6]) # real value\n",
    "print(t)\n",
    "print(t.dim()) # rank\n",
    "print(t.shape) # shape\n",
    "print(t.size()) # shape"
   ]
  },
  {
   "cell_type": "code",
   "execution_count": 16,
   "id": "3e6807e1",
   "metadata": {},
   "outputs": [
    {
     "name": "stdout",
     "output_type": "stream",
     "text": [
      "tensor([[0.3958, 0.9219, 0.7588],\n",
      "        [0.3811, 0.0262, 0.3594]]) \n",
      "\n",
      "tensor([[4, 5, 4],\n",
      "        [6, 8, 2]]) \n",
      "\n",
      "tensor([[-2.3113,  1.6352,  2.0614],\n",
      "        [-0.2542, -1.5118, -1.2799]]) \n",
      "\n",
      "tensor([[0., 0., 0.],\n",
      "        [0., 0., 0.]]) \n",
      "\n",
      "tensor([[1., 1., 1.],\n",
      "        [1., 1., 1.]])\n"
     ]
    }
   ],
   "source": [
    "torch.manual_seed(2022) # 동일한 랜덤 값을 사용할 숫 있도록 해줌\n",
    "\n",
    "x = torch.rand(2, 3) # 0~1사이의 숫자를 랜덤으로 반환\n",
    "print(x, '\\n')\n",
    "\n",
    "x = torch.randint(10, size=(2, 3)) # 지정한 벙위내 숫자를 랜덤으로 반환\n",
    "print(x, '\\n')\n",
    "\n",
    "x = torch.randn(2, 3) # N(0, 1)인 Gaussuian 분포를 따르는 수를 런덤 반환\n",
    "print(x, '\\n')\n",
    "\n",
    "x = torch.zeros(2, 3) # 입력한 size에 맞는 0을 생성\n",
    "print(x, '\\n')\n",
    "\n",
    "x = torch.ones(2, 3) # 입력한 size에 맞는 1을 생성\n",
    "print(x)"
   ]
  },
  {
   "cell_type": "code",
   "execution_count": 17,
   "id": "9563bfc4",
   "metadata": {},
   "outputs": [
    {
     "data": {
      "text/plain": [
       "tensor([0.0000, 0.5000, 1.0000, 1.5000, 2.0000, 2.5000])"
      ]
     },
     "execution_count": 17,
     "metadata": {},
     "output_type": "execute_result"
    }
   ],
   "source": [
    "# torch.arange(start, end, step=1) -> [start, end] with step\n",
    "x = torch.arange(0, 3, 0.5)\n",
    "x"
   ]
  },
  {
   "cell_type": "code",
   "execution_count": 20,
   "id": "5753bb58",
   "metadata": {},
   "outputs": [
    {
     "data": {
      "text/plain": [
       "tensor([[8.2356e-10, 1.0358e-11, 2.5789e-09],\n",
       "        [1.0681e-05, 2.1570e-04, 6.3081e-10]])"
      ]
     },
     "execution_count": 20,
     "metadata": {},
     "output_type": "execute_result"
    }
   ],
   "source": [
    "# torch.FloatTensor(size or list)\n",
    "x = torch.FloatTensor(2, 3)\n",
    "x"
   ]
  },
  {
   "cell_type": "markdown",
   "id": "f1393ff2",
   "metadata": {},
   "source": [
    "## List, Numpy => Tensor로 변환"
   ]
  },
  {
   "cell_type": "code",
   "execution_count": 23,
   "id": "f2bd598e",
   "metadata": {},
   "outputs": [
    {
     "name": "stdout",
     "output_type": "stream",
     "text": [
      "tensor([[1., 2., 3.],\n",
      "        [4., 5., 6.]]) \n",
      "\n",
      "tensor([[1., 2., 3.],\n",
      "        [4., 5., 6.]])\n"
     ]
    }
   ],
   "source": [
    "# list로 부터 2x3 텐서 생성\n",
    "x_list = [[1, 2, 3], [4, 5, 6]]\n",
    "x = torch.Tensor(x_list)\n",
    "print(x, '\\n')\n",
    "\n",
    "# numpy array로 부터 2x3 텐서 생성\n",
    "x_numpy = np.array([[1, 2, 3], [4, 5, 6]])\n",
    "x = torch.Tensor(x_numpy)\n",
    "print(x)"
   ]
  },
  {
   "cell_type": "markdown",
   "id": "1c3e4fbb",
   "metadata": {},
   "source": [
    "## Tensor 크기 변경"
   ]
  },
  {
   "cell_type": "code",
   "execution_count": 31,
   "id": "f770c814",
   "metadata": {},
   "outputs": [
    {
     "name": "stdout",
     "output_type": "stream",
     "text": [
      "tensor([[[ 0.,  1.,  2.],\n",
      "         [ 3.,  4.,  5.]],\n",
      "\n",
      "        [[ 6.,  7.,  8.],\n",
      "         [ 9., 10., 11.]]]), \n",
      "\n",
      "shape:torch.Size([2, 2, 3])\n"
     ]
    }
   ],
   "source": [
    " x = np.array([[[0, 1, 2],\n",
    "                [3, 4 ,5]],\n",
    "               \n",
    "               [[6, 7, 8],\n",
    "                [9, 10, 11]]])\n",
    "\n",
    "x = torch.Tensor(x)\n",
    "print(f\"{x}, \\n\\nshape:{x.size()}\")"
   ]
  },
  {
   "cell_type": "code",
   "execution_count": 33,
   "id": "7a9c1c14",
   "metadata": {},
   "outputs": [
    {
     "name": "stdout",
     "output_type": "stream",
     "text": [
      "tensor([[ 0.,  1.,  2.],\n",
      "        [ 3.,  4.,  5.],\n",
      "        [ 6.,  7.,  8.],\n",
      "        [ 9., 10., 11.]]), \n",
      "\n",
      "shape:torch.Size([4, 3])\n"
     ]
    }
   ],
   "source": [
    "# view\n",
    "\n",
    "tensor_x = x.view(-1, 3)\n",
    "print(f\"{tensor_x}, \\n\\nshape:{tensor_x.size()}\")"
   ]
  },
  {
   "cell_type": "code",
   "execution_count": 34,
   "id": "c33ea87f",
   "metadata": {},
   "outputs": [
    {
     "name": "stdout",
     "output_type": "stream",
     "text": [
      "tensor([[ 0.,  1.],\n",
      "        [ 2.,  3.],\n",
      "        [ 4.,  5.],\n",
      "        [ 6.,  7.],\n",
      "        [ 8.,  9.],\n",
      "        [10., 11.]]), \n",
      "\n",
      "shape:torch.Size([6, 2])\n"
     ]
    }
   ],
   "source": [
    "# reshape\n",
    "\n",
    "tensor_x = x.reshape(-1, 2)\n",
    "print(f\"{tensor_x}, \\n\\nshape:{tensor_x.size()}\")"
   ]
  },
  {
   "cell_type": "markdown",
   "id": "34459f25",
   "metadata": {},
   "source": [
    "## Tensor 차원 추가 및 삭제"
   ]
  },
  {
   "cell_type": "code",
   "execution_count": 37,
   "id": "e5615350",
   "metadata": {},
   "outputs": [
    {
     "name": "stdout",
     "output_type": "stream",
     "text": [
      "torch.Size([10, 1, 3, 1, 4]) \n",
      "\n",
      "torch.Size([10, 3, 4])\n"
     ]
    }
   ],
   "source": [
    "# squeeze(rank를 줄여주는 기능)\n",
    "x1 = torch.FloatTensor(10, 1, 3, 1, 4)\n",
    "print(x1.size(), '\\n')\n",
    "\n",
    "x2 = x1.squeeze()\n",
    "print(x2.size())"
   ]
  },
  {
   "cell_type": "code",
   "execution_count": 43,
   "id": "73351853",
   "metadata": {},
   "outputs": [
    {
     "name": "stdout",
     "output_type": "stream",
     "text": [
      "torch.Size([10, 3, 4]) \n",
      "\n",
      "torch.Size([10, 1, 3, 4])\n"
     ]
    }
   ],
   "source": [
    "# unsqueeze(rank를 늘려주는 기능)\n",
    "x1 = torch.FloatTensor(10, 3, 4)\n",
    "print(x1.size(), '\\n')\n",
    "\n",
    "x2 = x1.unsqueeze(dim=1) # torch.unsuqeeze(x1, dim=1)\n",
    "print(x2.size())"
   ]
  },
  {
   "cell_type": "markdown",
   "id": "7adbb185",
   "metadata": {},
   "source": [
    "## Tensor 합치기"
   ]
  },
  {
   "cell_type": "code",
   "execution_count": 53,
   "id": "74579c2f",
   "metadata": {},
   "outputs": [
    {
     "name": "stdout",
     "output_type": "stream",
     "text": [
      "x = \n",
      "tensor([[1, 0, 3],\n",
      "        [6, 9, 7]])\n",
      "y = \n",
      "tensor([[4, 5, 4],\n",
      "        [6, 8, 2]])\n",
      "\n",
      "z = \n",
      "tensor([[1, 0, 3],\n",
      "        [6, 9, 7],\n",
      "        [4, 5, 4],\n",
      "        [6, 8, 2]])\n"
     ]
    }
   ],
   "source": [
    "torch.manual_seed(2022)\n",
    "x = torch.randint(10, size=(2, 3))\n",
    "y = torch.randint(10, size=(2, 3))\n",
    "\n",
    "print(f\"x = \\n{x}\")\n",
    "print(f\"y = \\n{y}\\n\")\n",
    "\n",
    "z = torch.cat([x, y], dim=0)\n",
    "print(f\"z = \\n{z}\")"
   ]
  },
  {
   "cell_type": "markdown",
   "id": "0bd873ca",
   "metadata": {},
   "source": [
    "## 평균, 분산 구하기"
   ]
  },
  {
   "cell_type": "code",
   "execution_count": 56,
   "id": "0c0f4f9d",
   "metadata": {},
   "outputs": [
    {
     "name": "stdout",
     "output_type": "stream",
     "text": [
      "tensor([  1., 100.])\n",
      "mean:50.5\n",
      "variance:4900.5\n"
     ]
    }
   ],
   "source": [
    "x = torch.FloatTensor([1, 100])\n",
    "\n",
    "print(x)\n",
    "print(f\"mean:{x.mean()}\")\n",
    "print(f\"variance:{x.var()}\")"
   ]
  },
  {
   "cell_type": "markdown",
   "id": "f6266e25",
   "metadata": {},
   "source": [
    "## Tensor 인덱싱_2dim"
   ]
  },
  {
   "cell_type": "code",
   "execution_count": 57,
   "id": "f42a29f2",
   "metadata": {},
   "outputs": [
    {
     "data": {
      "text/plain": [
       "tensor([[1, 0, 3],\n",
       "        [6, 9, 7],\n",
       "        [4, 5, 4],\n",
       "        [6, 8, 2]])"
      ]
     },
     "execution_count": 57,
     "metadata": {},
     "output_type": "execute_result"
    }
   ],
   "source": [
    "z"
   ]
  },
  {
   "cell_type": "code",
   "execution_count": 58,
   "id": "72565936",
   "metadata": {},
   "outputs": [
    {
     "data": {
      "text/plain": [
       "tensor([6, 8, 2])"
      ]
     },
     "execution_count": 58,
     "metadata": {},
     "output_type": "execute_result"
    }
   ],
   "source": [
    "z[3]"
   ]
  },
  {
   "cell_type": "code",
   "execution_count": 59,
   "id": "6c19a1a4",
   "metadata": {},
   "outputs": [
    {
     "data": {
      "text/plain": [
       "tensor(0)"
      ]
     },
     "execution_count": 59,
     "metadata": {},
     "output_type": "execute_result"
    }
   ],
   "source": [
    "z[0, 1]"
   ]
  },
  {
   "cell_type": "code",
   "execution_count": 61,
   "id": "b65ea9d9",
   "metadata": {},
   "outputs": [
    {
     "data": {
      "text/plain": [
       "tensor([0, 9, 5, 8])"
      ]
     },
     "execution_count": 61,
     "metadata": {},
     "output_type": "execute_result"
    }
   ],
   "source": [
    "z[:, 1]"
   ]
  },
  {
   "cell_type": "code",
   "execution_count": 63,
   "id": "399b0553",
   "metadata": {},
   "outputs": [
    {
     "data": {
      "text/plain": [
       "tensor([6, 8, 2])"
      ]
     },
     "execution_count": 63,
     "metadata": {},
     "output_type": "execute_result"
    }
   ],
   "source": [
    "z[-1]"
   ]
  },
  {
   "cell_type": "code",
   "execution_count": 64,
   "id": "0bcffcff",
   "metadata": {},
   "outputs": [
    {
     "data": {
      "text/plain": [
       "tensor([[1, 0],\n",
       "        [6, 9],\n",
       "        [4, 5],\n",
       "        [6, 8]])"
      ]
     },
     "execution_count": 64,
     "metadata": {},
     "output_type": "execute_result"
    }
   ],
   "source": [
    "z[:, :-1]"
   ]
  },
  {
   "cell_type": "code",
   "execution_count": 66,
   "id": "26413363",
   "metadata": {},
   "outputs": [
    {
     "data": {
      "text/plain": [
       "tensor([[4, 5, 4],\n",
       "        [6, 8, 2]])"
      ]
     },
     "execution_count": 66,
     "metadata": {},
     "output_type": "execute_result"
    }
   ],
   "source": [
    "z[2:, :]"
   ]
  },
  {
   "cell_type": "markdown",
   "id": "765df212",
   "metadata": {},
   "source": [
    "## ## Tensor 인덱싱_3dim"
   ]
  },
  {
   "cell_type": "code",
   "execution_count": 72,
   "id": "90b4b007",
   "metadata": {},
   "outputs": [
    {
     "name": "stdout",
     "output_type": "stream",
     "text": [
      "tensor([[[8, 1, 2, 5],\n",
      "         [5, 7, 3, 7],\n",
      "         [5, 1, 2, 1]],\n",
      "\n",
      "        [[5, 1, 6, 0],\n",
      "         [6, 8, 9, 0],\n",
      "         [0, 1, 8, 3]]])\n",
      "\n",
      "shape:torch.Size([2, 3, 4])\n"
     ]
    }
   ],
   "source": [
    "x = torch.randint(10, size=(2, 3, 4))\n",
    "print(x)\n",
    "print(f\"\\nshape:{x.size()}\")"
   ]
  },
  {
   "cell_type": "code",
   "execution_count": 76,
   "id": "d03f8da2",
   "metadata": {},
   "outputs": [
    {
     "data": {
      "text/plain": [
       "tensor([[5, 1, 2, 1],\n",
       "        [0, 1, 8, 3]])"
      ]
     },
     "execution_count": 76,
     "metadata": {},
     "output_type": "execute_result"
    }
   ],
   "source": [
    "x[:, 2, :]"
   ]
  },
  {
   "cell_type": "code",
   "execution_count": 78,
   "id": "7cdb74fc",
   "metadata": {},
   "outputs": [
    {
     "data": {
      "text/plain": [
       "tensor([[8, 1, 2],\n",
       "        [5, 1, 6]])"
      ]
     },
     "execution_count": 78,
     "metadata": {},
     "output_type": "execute_result"
    }
   ],
   "source": [
    "x[:, 0, :-1]"
   ]
  }
 ],
 "metadata": {
  "kernelspec": {
   "display_name": "Python 3 (ipykernel)",
   "language": "python",
   "name": "python3"
  },
  "language_info": {
   "codemirror_mode": {
    "name": "ipython",
    "version": 3
   },
   "file_extension": ".py",
   "mimetype": "text/x-python",
   "name": "python",
   "nbconvert_exporter": "python",
   "pygments_lexer": "ipython3",
   "version": "3.8.5"
  }
 },
 "nbformat": 4,
 "nbformat_minor": 5
}
