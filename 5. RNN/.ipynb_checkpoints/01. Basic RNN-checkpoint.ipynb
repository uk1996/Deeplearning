{
 "cells": [
  {
   "cell_type": "code",
   "execution_count": 1,
   "id": "2e4351ab",
   "metadata": {},
   "outputs": [],
   "source": [
    "import numpy as np\n",
    "import pandas as pd\n",
    "\n",
    "import torch\n",
    "import torch.nn.functional as F\n",
    "\n",
    "from ordered_set import OrderedSet"
   ]
  },
  {
   "cell_type": "markdown",
   "id": "aa2cb9fd",
   "metadata": {},
   "source": [
    "## Data preprocessing"
   ]
  },
  {
   "cell_type": "code",
   "execution_count": 2,
   "id": "fc1b9fd7",
   "metadata": {},
   "outputs": [
    {
     "data": {
      "text/plain": [
       "['t', 'o', 'm', 'a', 't', 'o']"
      ]
     },
     "execution_count": 2,
     "metadata": {},
     "output_type": "execute_result"
    }
   ],
   "source": [
    "string = 'tomato'\n",
    "string = list(string)\n",
    "string"
   ]
  },
  {
   "cell_type": "code",
   "execution_count": 3,
   "id": "c39aacf7",
   "metadata": {},
   "outputs": [
    {
     "data": {
      "text/plain": [
       "['t', 'o', 'm', 'a']"
      ]
     },
     "execution_count": 3,
     "metadata": {},
     "output_type": "execute_result"
    }
   ],
   "source": [
    "set_string = list(OrderedSet(string)) # 중복되는 철자 제거\n",
    "set_string"
   ]
  },
  {
   "cell_type": "code",
   "execution_count": 4,
   "id": "d3ce0d33",
   "metadata": {},
   "outputs": [
    {
     "data": {
      "text/plain": [
       "{'t': 0, 'o': 1, 'm': 2, 'a': 3}"
      ]
     },
     "execution_count": 4,
     "metadata": {},
     "output_type": "execute_result"
    }
   ],
   "source": [
    "string_to_index = {s:idx for idx, s in enumerate(set_string)}\n",
    "string_to_index"
   ]
  },
  {
   "cell_type": "code",
   "execution_count": 5,
   "id": "c0c5f30f",
   "metadata": {},
   "outputs": [],
   "source": [
    "# tomato onehot encoding\n",
    "def one_hot_encoding(word, word_to_index):\n",
    "    one_hot_vector = [0]*(len(word_to_index))\n",
    "    index = word_to_index[word]\n",
    "    one_hot_vector[index] = 1\n",
    "    return one_hot_vector\n",
    "\n",
    "encoding_X = []\n",
    "for s in string[:-1]: # input은 마지막 철자를 제외\n",
    "    encoding_X.append(one_hot_encoding(s, string_to_index))\n",
    "\n",
    "target = [string_to_index[s] for s in string[1:]]\n",
    "    \n",
    "X = torch.FloatTensor(encoding_X).reshape(5,1, 4) # 실수형 텐서\n",
    "Y = torch.LongTensor(target) # 정수형 텐서 "
   ]
  },
  {
   "cell_type": "code",
   "execution_count": 6,
   "id": "11b9e8c3",
   "metadata": {},
   "outputs": [
    {
     "data": {
      "text/plain": [
       "torch.Size([5, 1, 4])"
      ]
     },
     "execution_count": 6,
     "metadata": {},
     "output_type": "execute_result"
    }
   ],
   "source": [
    "X.shape # (batch, Seq, input_dim)"
   ]
  },
  {
   "cell_type": "code",
   "execution_count": 7,
   "id": "d180bac5",
   "metadata": {},
   "outputs": [
    {
     "data": {
      "text/plain": [
       "tensor([1, 2, 3, 0, 1])"
      ]
     },
     "execution_count": 7,
     "metadata": {},
     "output_type": "execute_result"
    }
   ],
   "source": [
    "Y"
   ]
  },
  {
   "cell_type": "markdown",
   "id": "b4ca112f",
   "metadata": {},
   "source": [
    "## Hyper parameters"
   ]
  },
  {
   "cell_type": "code",
   "execution_count": 8,
   "id": "dbefdf52",
   "metadata": {},
   "outputs": [],
   "source": [
    "input_size = 4 # 원핫인코딩의 Dimension\n",
    "hidden_size = 4\n",
    "\n",
    "num_epoch = 20\n",
    "learning_rate = 0.1"
   ]
  },
  {
   "cell_type": "markdown",
   "id": "394737e4",
   "metadata": {},
   "source": [
    "## Model"
   ]
  },
  {
   "cell_type": "code",
   "execution_count": 9,
   "id": "cf2dffce",
   "metadata": {},
   "outputs": [],
   "source": [
    "model = torch.nn.RNN(input_size, hidden_size, batch_first=True) # batch_first => (batch, seq, input_dim)"
   ]
  },
  {
   "cell_type": "markdown",
   "id": "25a75f2c",
   "metadata": {},
   "source": [
    "## Loss function, Optimizer"
   ]
  },
  {
   "cell_type": "code",
   "execution_count": 10,
   "id": "f642033d",
   "metadata": {},
   "outputs": [],
   "source": [
    "loss_function = torch.nn.CrossEntropyLoss()\n",
    "optimizer = torch.optim.Adam(model.parameters(), lr=learning_rate)"
   ]
  },
  {
   "cell_type": "markdown",
   "id": "c63427d1",
   "metadata": {},
   "source": [
    "## Training"
   ]
  },
  {
   "cell_type": "code",
   "execution_count": 11,
   "id": "7b6e0fd3",
   "metadata": {},
   "outputs": [
    {
     "name": "stdout",
     "output_type": "stream",
     "text": [
      "Epoch: 1, loss:1.12 --> 예측한 문자: oaato, 예측값: [1 3 3 0 1]\n",
      "Epoch: 2, loss:0.99 --> 예측한 문자: omato, 예측값: [1 2 3 0 1]\n",
      "Epoch: 3, loss:0.90 --> 예측한 문자: omoto, 예측값: [1 2 1 0 1]\n",
      "Epoch: 4, loss:0.81 --> 예측한 문자: omato, 예측값: [1 2 3 0 1]\n",
      "Epoch: 5, loss:0.74 --> 예측한 문자: omato, 예측값: [1 2 3 0 1]\n",
      "Epoch: 6, loss:0.67 --> 예측한 문자: omato, 예측값: [1 2 3 0 1]\n",
      "Epoch: 7, loss:0.61 --> 예측한 문자: omato, 예측값: [1 2 3 0 1]\n",
      "Epoch: 8, loss:0.56 --> 예측한 문자: omato, 예측값: [1 2 3 0 1]\n",
      "Epoch: 9, loss:0.53 --> 예측한 문자: omato, 예측값: [1 2 3 0 1]\n",
      "Epoch: 10, loss:0.50 --> 예측한 문자: omato, 예측값: [1 2 3 0 1]\n",
      "Epoch: 11, loss:0.48 --> 예측한 문자: omato, 예측값: [1 2 3 0 1]\n",
      "Epoch: 12, loss:0.46 --> 예측한 문자: omato, 예측값: [1 2 3 0 1]\n",
      "Epoch: 13, loss:0.44 --> 예측한 문자: omato, 예측값: [1 2 3 0 1]\n",
      "Epoch: 14, loss:0.43 --> 예측한 문자: omato, 예측값: [1 2 3 0 1]\n",
      "Epoch: 15, loss:0.42 --> 예측한 문자: omato, 예측값: [1 2 3 0 1]\n",
      "Epoch: 16, loss:0.41 --> 예측한 문자: omato, 예측값: [1 2 3 0 1]\n",
      "Epoch: 17, loss:0.40 --> 예측한 문자: omato, 예측값: [1 2 3 0 1]\n",
      "Epoch: 18, loss:0.39 --> 예측한 문자: omato, 예측값: [1 2 3 0 1]\n",
      "Epoch: 19, loss:0.39 --> 예측한 문자: omato, 예측값: [1 2 3 0 1]\n",
      "Epoch: 20, loss:0.38 --> 예측한 문자: omato, 예측값: [1 2 3 0 1]\n"
     ]
    }
   ],
   "source": [
    "for epoch in range(num_epoch):\n",
    "    optimizer.zero_grad()\n",
    "    \n",
    "    outputs, status = model(X)\n",
    "    outputs = outputs.reshape(-1, input_size)\n",
    "    \n",
    "    loss = loss_function(outputs, Y)\n",
    "    \n",
    "    loss.backward()\n",
    "    optimizer.step()\n",
    "    \n",
    "    result = outputs.detach().numpy().argmax(axis=1)\n",
    "    result_string = ''.join([set_string[s] for s in result])\n",
    "    \n",
    "    print(f\"Epoch: {epoch+1}, loss:{loss:.2f} --> 예측한 문자: {result_string}, 예측값: {result}\")"
   ]
  },
  {
   "cell_type": "markdown",
   "id": "02ab51d1",
   "metadata": {},
   "source": [
    "## Test"
   ]
  },
  {
   "cell_type": "code",
   "execution_count": 12,
   "id": "c11de1d1",
   "metadata": {},
   "outputs": [],
   "source": [
    "test_string = list('toma')\n",
    "\n",
    "test_X = []\n",
    "for s in test_string:\n",
    "    test_X.append(one_hot_encoding(s, string_to_index))\n",
    "test_X = torch.FloatTensor(test_X).reshape(4, 1, 4)"
   ]
  },
  {
   "cell_type": "code",
   "execution_count": 13,
   "id": "c1800c86",
   "metadata": {},
   "outputs": [
    {
     "data": {
      "text/plain": [
       "tensor([[[1., 0., 0., 0.]],\n",
       "\n",
       "        [[0., 1., 0., 0.]],\n",
       "\n",
       "        [[0., 0., 1., 0.]],\n",
       "\n",
       "        [[0., 0., 0., 1.]]])"
      ]
     },
     "execution_count": 13,
     "metadata": {},
     "output_type": "execute_result"
    }
   ],
   "source": [
    "test_X"
   ]
  },
  {
   "cell_type": "code",
   "execution_count": 14,
   "id": "1da962bf",
   "metadata": {},
   "outputs": [
    {
     "name": "stdout",
     "output_type": "stream",
     "text": [
      "예측한 문자: omat, 예측값: [1 2 3 0]\n"
     ]
    }
   ],
   "source": [
    "with torch.no_grad():\n",
    "    model.eval()\n",
    "    test_output, status = model(test_X)\n",
    "    test_output = test_output.reshape(-1, input_size)\n",
    "    \n",
    "    result = test_output.detach().numpy().argmax(axis=1)\n",
    "    result_string = ''.join([set_string[s] for s in result])\n",
    "    \n",
    "    print(f\"예측한 문자: {result_string}, 예측값: {result}\")"
   ]
  }
 ],
 "metadata": {
  "kernelspec": {
   "display_name": "Python 3 (ipykernel)",
   "language": "python",
   "name": "python3"
  },
  "language_info": {
   "codemirror_mode": {
    "name": "ipython",
    "version": 3
   },
   "file_extension": ".py",
   "mimetype": "text/x-python",
   "name": "python",
   "nbconvert_exporter": "python",
   "pygments_lexer": "ipython3",
   "version": "3.8.12"
  }
 },
 "nbformat": 4,
 "nbformat_minor": 5
}
